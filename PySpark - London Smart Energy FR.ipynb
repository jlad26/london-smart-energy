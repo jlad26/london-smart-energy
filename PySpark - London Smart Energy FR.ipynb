{
 "cells": [
  {
   "cell_type": "markdown",
   "id": "858a26ca",
   "metadata": {},
   "source": [
    "## Introduction"
   ]
  },
  {
   "cell_type": "markdown",
   "id": "c369a86c",
   "metadata": {},
   "source": [
    "Ce noteboook est le ***troisième*** d'une série où je regarde des grands jeux de données, et dans chaque cas j'utilise un outil différent pour effectuer la même analyse sur le même jeu de données.\n",
    "\n",
    "Cette fois-ci j'utilise **PySpark**, l'API Python pour **Apache Spark**, un cadre open source pour l'informatique distribuée et un ensemble de bibliothèques pour le traitement des données à grande échelle et en temps réel. On peut trouver chaque notebook dans la série dans mon [répertoire Github](https://github.com/jlad26/london-smart-energy), y compris:\n",
    "1. Pandas chunksize\n",
    "1. Bibliothèque Dask\n",
    "3. PySpark\n",
    "\n",
    "Il y a un peu plus d'explication dans le premier notebook (Pandas chunksize) par rapport à l'approche générale de l'analyse. Dans les autres notebooks je me concentre plus sur les éléments spécifiques à l'outil que j'utilise."
   ]
  },
  {
   "cell_type": "markdown",
   "id": "9b307cbe",
   "metadata": {},
   "source": [
    "## Description du jeu de données"
   ]
  },
  {
   "cell_type": "markdown",
   "id": "5ff7674a",
   "metadata": {},
   "source": [
    "On se servira du jeu de données des [Données de consommation d'énergie des résidences muni de SmartMeter à Londres](https://data.london.gov.uk/dataset/smartmeter-energy-use-data-in-london-households), qui contient, selon le site web:\n",
    ">Des relevés de consommation d'énergie pour un échantillon de 5 567 résidences à Londres qui ont participé au projet de Low Carbon London (géré par UK Power Networks) entre novembre 2011 et février 2014.\n",
    "\n",
    "Les résidences étaient divisées en deux groupes:\n",
    "- Celles qui ont reçu des tarifs d'énergie Dynamic Time of Use (dTou) (décrit \"Haut\", \"Moyen\", ou \"Bas\") la veille du jour où le prix allait être appliqué.\n",
    "- Celles qui étaient soumises au tarif Standard.\n",
    "\n",
    "Un but du projet était d'évaluer si la connaisance du prix de l'énergie changerait le comportement par rapport à la consommation d'énergie."
   ]
  },
  {
   "cell_type": "markdown",
   "id": "87f81d04",
   "metadata": {},
   "source": [
    "## Résultats"
   ]
  },
  {
   "cell_type": "markdown",
   "id": "99f7cdd5",
   "metadata": {},
   "source": [
    "<img src=\"images/result1-no-dupes.png\" width=\"100%\"/>"
   ]
  },
  {
   "cell_type": "markdown",
   "id": "53bee3fe",
   "metadata": {},
   "source": [
    "Les résultats montrent la variation saisonnière attendue et une différence nette entre les deux groupes, qui suggère qu'une connaissance du prix d'énergie aide à réduire la consommation de l'énergie.\n",
    "\n",
    "Le reste du notebook montre comment le diagramme était produit des données brutes."
   ]
  },
  {
   "cell_type": "markdown",
   "id": "3f0c5db1",
   "metadata": {},
   "source": [
    "## Introduction à PySpark et à Apache Spark"
   ]
  },
  {
   "cell_type": "markdown",
   "id": "fd848ed2",
   "metadata": {},
   "source": [
    "Quelques phrases - en anglais (désolé!) - pour expliquer les principes fondamentaux (copié d'[ici](https://www.dominodatalab.com/data-science-dictionary/pyspark#:~:text=PySpark%20is%20the%20Python%20API,more%20scalable%20analyses%20and%20pipelines.)).\n",
    ">Apache Spark is basically a computational engine that works with huge sets of data by processing them in parallel and batch systems. Spark is written in Scala, and PySpark was released to support the collaboration of Spark and Python. In addition to providing an API for Spark, PySpark helps you interface with Resilient Distributed Datasets (RDDs) by leveraging the Py4j library.\n",
    ">\n",
    ">The key data type used in PySpark is the Spark dataframe. This object can be thought of as a table distributed across a cluster, and has functionality that is similar to dataframes in R and Pandas. If you want to do distributed computation using PySpark, then you’ll need to perform operations on Spark dataframes and not other Python data types.\n",
    ">\n",
    ">One of the key differences between Pandas and Spark dataframes is eager versus lazy execution. In PySpark, operations are delayed until a result is actually requested in the pipeline. For example, you can specify operations for loading a data set from Amazon S3 and applying a number of transformations to the dataframe, but these operations won’t be applied immediately. Instead, a graph of transformations is recorded, and once the data are actually needed, for example when writing the results back to S3, then the transformations are applied as a single pipeline operation. This approach is used to avoid pulling the full dataframe into memory, and enables more effective processing across a cluster of machines. With Pandas dataframes, everything is pulled into memory, and every Pandas operation is applied immediately.\n",
    "\n",
    "En résumé, on va utiliser Pyspark à peu près de la même manière qu'on a utilisé la bibliothèque Dask dans le sens où:\n",
    "- On peut utiliser plusieurs CPUs dans un seul ordinateur au lieu d'un seul CPU.\n",
    "- Les opérations sont \"paresseuses\", qui veut dire qu'ils exécutent seulement lorsqu'il est nécessaire.\n",
    "- On se sert des RDDs (Resilient Distributed Datasets) au lieu d'un dataframe Pandas pour manipuler les données."
   ]
  },
  {
   "cell_type": "markdown",
   "id": "e9f86fd0",
   "metadata": {},
   "source": [
    "## Installation"
   ]
  },
  {
   "cell_type": "markdown",
   "id": "b6ceecf8",
   "metadata": {},
   "source": [
    "Pour installer et configurer PySpark j'ai suivi les consignes [ici](https://www.sicara.fr/blog-technique/2017-05-02-get-started-pyspark-jupyter-notebook-3-minutes), en utilisant la deuxième méthode (FindSpark)."
   ]
  },
  {
   "cell_type": "markdown",
   "id": "ec429e0b",
   "metadata": {},
   "source": [
    "## Accéder les données"
   ]
  },
  {
   "cell_type": "markdown",
   "id": "22096818",
   "metadata": {},
   "source": [
    "On peut télécharger les données sous forme de fichier zip qui contient un fichier csv de 167 million lignes. Si la commande `curl` ne fonctionne pas (il faudra un certains temps puisque c'est un fichier de 800MB), vous pouvez télécharger le fichier [ici](https://data.london.gov.uk/download/smartmeter-energy-use-data-in-london-households/3527bf39-d93e-4071-8451-df2ade1ea4f2/LCL-FullData.zip) et le mettre dans le dossier `data` qui se trouve dans le dossier où ce notebook est sauvegardé."
   ]
  },
  {
   "cell_type": "code",
   "execution_count": null,
   "id": "6a651b9e",
   "metadata": {},
   "outputs": [],
   "source": [
    "!curl \"https://data.london.gov.uk/download/smartmeter-energy-use-data-in-london-households/3527bf39-d93e-4071-8451-df2ade1ea4f2/LCL-FullData.zip\" --location --create-dirs -o \"data/LCL-FullData.zip\""
   ]
  },
  {
   "cell_type": "markdown",
   "id": "b137cc5a",
   "metadata": {},
   "source": [
    "Ensuite on décompresse les données. Il faudra peut-être un certain temps! Vous pouvez également le décompresser manuellement en utilisant un autre logiciel de décompression. Assurez-vous simplement que vous mettez le fichier décompressé dans un dossier qui s'appelle `data` dans le dossier où votre notebook est sauvegardé."
   ]
  },
  {
   "cell_type": "code",
   "execution_count": null,
   "id": "64cb86d9",
   "metadata": {},
   "outputs": [],
   "source": [
    "!unzip \"data/LCL-FullData.zip\" -d \"data\""
   ]
  },
  {
   "cell_type": "markdown",
   "id": "cf811a94",
   "metadata": {},
   "source": [
    "## Examiner les données"
   ]
  },
  {
   "cell_type": "code",
   "execution_count": 1,
   "id": "6e8ed060",
   "metadata": {},
   "outputs": [],
   "source": [
    "import findspark\n",
    "findspark.init()\n",
    "import pyspark"
   ]
  },
  {
   "cell_type": "code",
   "execution_count": 2,
   "id": "c7b476f9",
   "metadata": {},
   "outputs": [],
   "source": [
    "import pandas as pd"
   ]
  },
  {
   "cell_type": "markdown",
   "id": "093ce2fc",
   "metadata": {},
   "source": [
    "D'abord il faut créer un `SparkContext`."
   ]
  },
  {
   "cell_type": "code",
   "execution_count": 3,
   "id": "37a4eaaf",
   "metadata": {},
   "outputs": [
    {
     "name": "stderr",
     "output_type": "stream",
     "text": [
      "Using Spark's default log4j profile: org/apache/spark/log4j-defaults.properties\n",
      "Setting default log level to \"WARN\".\n",
      "To adjust logging level use sc.setLogLevel(newLevel). For SparkR, use setLogLevel(newLevel).\n",
      "22/06/27 10:05:48 WARN NativeCodeLoader: Unable to load native-hadoop library for your platform... using builtin-java classes where applicable\n",
      "22/06/27 10:05:49 WARN Utils: Service 'SparkUI' could not bind on port 4040. Attempting port 4041.\n"
     ]
    }
   ],
   "source": [
    "sc = pyspark.SparkContext(appName=\"LSE\")"
   ]
  },
  {
   "cell_type": "markdown",
   "id": "0619d159",
   "metadata": {},
   "source": [
    "Maintenant chargeons les données dans un RDD qu'on nommera `raw_data`."
   ]
  },
  {
   "cell_type": "code",
   "execution_count": 4,
   "id": "3b031a32",
   "metadata": {},
   "outputs": [],
   "source": [
    "raw_data = sc.textFile(\"data/CC_LCL-FullData.csv\")"
   ]
  },
  {
   "cell_type": "code",
   "execution_count": 5,
   "id": "68214b9c",
   "metadata": {},
   "outputs": [
    {
     "name": "stderr",
     "output_type": "stream",
     "text": [
      "                                                                                \r"
     ]
    },
    {
     "data": {
      "text/plain": [
       "['LCLid,stdorToU,DateTime,KWH/hh (per half hour) ',\n",
       " 'MAC000002,Std,2012-10-12 00:30:00.0000000, 0 ',\n",
       " 'MAC000002,Std,2012-10-12 01:00:00.0000000, 0 ',\n",
       " 'MAC000002,Std,2012-10-12 01:30:00.0000000, 0 ',\n",
       " 'MAC000002,Std,2012-10-12 02:00:00.0000000, 0 ',\n",
       " 'MAC000002,Std,2012-10-12 02:30:00.0000000, 0 ',\n",
       " 'MAC000002,Std,2012-10-12 03:00:00.0000000, 0 ',\n",
       " 'MAC000002,Std,2012-10-12 03:30:00.0000000, 0 ',\n",
       " 'MAC000002,Std,2012-10-12 04:00:00.0000000, 0 ',\n",
       " 'MAC000002,Std,2012-10-12 04:30:00.0000000, 0 ',\n",
       " 'MAC000002,Std,2012-10-12 05:00:00.0000000, 0 ',\n",
       " 'MAC000002,Std,2012-10-12 05:30:00.0000000, 0 ',\n",
       " 'MAC000002,Std,2012-10-12 06:00:00.0000000, 0 ',\n",
       " 'MAC000002,Std,2012-10-12 06:30:00.0000000, 0 ',\n",
       " 'MAC000002,Std,2012-10-12 07:00:00.0000000, 0 ']"
      ]
     },
     "execution_count": 5,
     "metadata": {},
     "output_type": "execute_result"
    }
   ],
   "source": [
    "raw_data.take(15)"
   ]
  },
  {
   "cell_type": "markdown",
   "id": "f1b2e723",
   "metadata": {},
   "source": [
    "Veuillez noter que nos données sont sous forme d'une liste, et que chaque élément est une seule chaíne qui représente une ligne des données.\n",
    "\n",
    "On peut voir aussi que nos données sont divisées en 255 partitions, en utilisant la méthode `getNumPartitions`."
   ]
  },
  {
   "cell_type": "code",
   "execution_count": 6,
   "id": "d3e996da",
   "metadata": {},
   "outputs": [
    {
     "data": {
      "text/plain": [
       "255"
      ]
     },
     "execution_count": 6,
     "metadata": {},
     "output_type": "execute_result"
    }
   ],
   "source": [
    "raw_data.getNumPartitions()"
   ]
  },
  {
   "cell_type": "markdown",
   "id": "0e16312a",
   "metadata": {},
   "source": [
    "Supprimons les en-têtes des données parce qu'on voudra appliquer des fonctions à notre RDD et on voudra les appliquer aux données, et pas aux en-têtes.\n",
    "\n",
    "On utilise la méthode `filter` pour supprimer la ligne."
   ]
  },
  {
   "cell_type": "code",
   "execution_count": 7,
   "id": "0dff3473",
   "metadata": {},
   "outputs": [
    {
     "data": {
      "text/plain": [
       "['MAC000002,Std,2012-10-12 00:30:00.0000000, 0 ',\n",
       " 'MAC000002,Std,2012-10-12 01:00:00.0000000, 0 ',\n",
       " 'MAC000002,Std,2012-10-12 01:30:00.0000000, 0 ',\n",
       " 'MAC000002,Std,2012-10-12 02:00:00.0000000, 0 ',\n",
       " 'MAC000002,Std,2012-10-12 02:30:00.0000000, 0 ',\n",
       " 'MAC000002,Std,2012-10-12 03:00:00.0000000, 0 ',\n",
       " 'MAC000002,Std,2012-10-12 03:30:00.0000000, 0 ',\n",
       " 'MAC000002,Std,2012-10-12 04:00:00.0000000, 0 ',\n",
       " 'MAC000002,Std,2012-10-12 04:30:00.0000000, 0 ',\n",
       " 'MAC000002,Std,2012-10-12 05:00:00.0000000, 0 ',\n",
       " 'MAC000002,Std,2012-10-12 05:30:00.0000000, 0 ',\n",
       " 'MAC000002,Std,2012-10-12 06:00:00.0000000, 0 ',\n",
       " 'MAC000002,Std,2012-10-12 06:30:00.0000000, 0 ',\n",
       " 'MAC000002,Std,2012-10-12 07:00:00.0000000, 0 ',\n",
       " 'MAC000002,Std,2012-10-12 07:30:00.0000000, 0 ']"
      ]
     },
     "execution_count": 7,
     "metadata": {},
     "output_type": "execute_result"
    }
   ],
   "source": [
    "header = raw_data.first()\n",
    "full_data = raw_data.filter(lambda x : x != header)\n",
    "full_data.take(15)"
   ]
  },
  {
   "cell_type": "markdown",
   "id": "ce4f9225",
   "metadata": {},
   "source": [
    "## Nettoyer les données"
   ]
  },
  {
   "cell_type": "markdown",
   "id": "4c6fc911",
   "metadata": {},
   "source": [
    "Travillons sur une petite partie du jeu de données (10 000 lignes) pour créer et tester chaque étape de traitement."
   ]
  },
  {
   "cell_type": "code",
   "execution_count": 8,
   "id": "7edc847a",
   "metadata": {},
   "outputs": [
    {
     "data": {
      "text/plain": [
       "8"
      ]
     },
     "execution_count": 8,
     "metadata": {},
     "output_type": "execute_result"
    }
   ],
   "source": [
    "test_data = sc.parallelize(full_data.take(10000))\n",
    "test_data.getNumPartitions()"
   ]
  },
  {
   "cell_type": "markdown",
   "id": "6a5050cb",
   "metadata": {},
   "source": [
    "D'abord supprimons les doublons s'il y en a."
   ]
  },
  {
   "cell_type": "code",
   "execution_count": 9,
   "id": "23257681",
   "metadata": {},
   "outputs": [],
   "source": [
    "test_data_no_dupes = test_data.distinct()"
   ]
  },
  {
   "cell_type": "markdown",
   "id": "d463a91e",
   "metadata": {},
   "source": [
    "Comme attendu, l'opération n'a pas été exécutée encore parce qu'on est en mode d'exécution \"paresseuse\". Pour voir les résultats de l'opération il faut utiliser la méthode `collect`."
   ]
  },
  {
   "cell_type": "code",
   "execution_count": 10,
   "id": "32b61b22",
   "metadata": {},
   "outputs": [
    {
     "data": {
      "text/plain": [
       "9993"
      ]
     },
     "execution_count": 10,
     "metadata": {},
     "output_type": "execute_result"
    }
   ],
   "source": [
    "len(test_data_no_dupes.collect())"
   ]
  },
  {
   "cell_type": "markdown",
   "id": "6437ccdb",
   "metadata": {},
   "source": [
    "On sait que cela a marché parce que 7 doublons ont été supprimés. Maintenant on développe le traitement.\n",
    "\n",
    "On va utiliser la méthode `map` pour traiter les données. La première étape consiste à repartitionner chaque chaîne (qui représente une ligne) sous forme de liste."
   ]
  },
  {
   "cell_type": "code",
   "execution_count": 11,
   "id": "bfac641e",
   "metadata": {},
   "outputs": [],
   "source": [
    "def split_line_into_list(x):\n",
    "    '''\n",
    "    Split single string of line in csv format into values corresponding to columns\n",
    "    '''\n",
    "    return x.split(\",\")"
   ]
  },
  {
   "cell_type": "code",
   "execution_count": 12,
   "id": "30f564f6",
   "metadata": {},
   "outputs": [],
   "source": [
    "split_test_data = test_data_no_dupes.map(split_line_into_list)"
   ]
  },
  {
   "cell_type": "code",
   "execution_count": 13,
   "id": "a87bac94",
   "metadata": {},
   "outputs": [
    {
     "data": {
      "text/plain": [
       "[['MAC000002', 'Std', '2012-10-12 17:00:00.0000000', ' 0.493 '],\n",
       " ['MAC000002', 'Std', '2012-10-12 20:00:00.0000000', ' 0.198 '],\n",
       " ['MAC000002', 'Std', '2012-10-13 01:00:00.0000000', ' 0.275 '],\n",
       " ['MAC000002', 'Std', '2012-10-13 02:00:00.0000000', ' 0.211 '],\n",
       " ['MAC000002', 'Std', '2012-10-13 03:30:00.0000000', ' 0.119 '],\n",
       " ['MAC000002', 'Std', '2012-10-13 09:30:00.0000000', ' 0.191 '],\n",
       " ['MAC000002', 'Std', '2012-10-13 12:00:00.0000000', ' 0.076 '],\n",
       " ['MAC000002', 'Std', '2012-10-13 12:30:00.0000000', ' 0.133 '],\n",
       " ['MAC000002', 'Std', '2012-10-13 13:30:00.0000000', ' 0.133 '],\n",
       " ['MAC000002', 'Std', '2012-10-13 16:30:00.0000000', ' 0.184 '],\n",
       " ['MAC000002', 'Std', '2012-10-13 19:30:00.0000000', ' 0.278 '],\n",
       " ['MAC000002', 'Std', '2012-10-13 22:30:00.0000000', ' 0.188 '],\n",
       " ['MAC000002', 'Std', '2012-10-14 00:00:00.0000000', ' 0.262 '],\n",
       " ['MAC000002', 'Std', '2012-10-14 10:00:00.0000000', ' 0.524 '],\n",
       " ['MAC000002', 'Std', '2012-10-14 12:30:00.0000000', ' 0.22 ']]"
      ]
     },
     "execution_count": 13,
     "metadata": {},
     "output_type": "execute_result"
    }
   ],
   "source": [
    "split_test_data.collect()[:15]"
   ]
  },
  {
   "cell_type": "markdown",
   "id": "07dde59a",
   "metadata": {},
   "source": [
    "Maintenant on peut effectuer les opérations de nettoyage (les mêmes opérations qu'on trouve dans les autres notebooks de la série):\n",
    "1. Convertir les valeurs kWh en valeurs numériques\n",
    "1. Convertir les données de type horodatage en forme de date, prêt pour le regoupement"
   ]
  },
  {
   "cell_type": "code",
   "execution_count": 14,
   "id": "edc1c5cd",
   "metadata": {},
   "outputs": [],
   "source": [
    "def convert_kwh_data_to_numeric(x):\n",
    "    '''\n",
    "    Convert the kWh value from string to float\n",
    "    '''\n",
    "    x[3] = float(x[3])\n",
    "    return x"
   ]
  },
  {
   "cell_type": "code",
   "execution_count": 15,
   "id": "1db20359",
   "metadata": {
    "scrolled": true
   },
   "outputs": [
    {
     "name": "stderr",
     "output_type": "stream",
     "text": [
      "22/06/27 10:06:00 ERROR Executor: Exception in task 2.0 in stage 9.0 (TID 30)\n",
      "org.apache.spark.api.python.PythonException: Traceback (most recent call last):\n",
      "  File \"/opt/spark/python/lib/pyspark.zip/pyspark/worker.py\", line 619, in main\n",
      "    process()\n",
      "  File \"/opt/spark/python/lib/pyspark.zip/pyspark/worker.py\", line 611, in process\n",
      "    serializer.dump_stream(out_iter, outfile)\n",
      "  File \"/opt/spark/python/lib/pyspark.zip/pyspark/serializers.py\", line 259, in dump_stream\n",
      "    vs = list(itertools.islice(iterator, batch))\n",
      "  File \"/opt/spark/python/lib/pyspark.zip/pyspark/util.py\", line 74, in wrapper\n",
      "    return f(*args, **kwargs)\n",
      "  File \"/tmp/ipykernel_91458/95641023.py\", line 5, in convert_kwh_data_to_numeric\n",
      "ValueError: could not convert string to float: 'Null'\n",
      "\n",
      "\tat org.apache.spark.api.python.BasePythonRunner$ReaderIterator.handlePythonException(PythonRunner.scala:555)\n",
      "\tat org.apache.spark.api.python.PythonRunner$$anon$3.read(PythonRunner.scala:713)\n",
      "\tat org.apache.spark.api.python.PythonRunner$$anon$3.read(PythonRunner.scala:695)\n",
      "\tat org.apache.spark.api.python.BasePythonRunner$ReaderIterator.hasNext(PythonRunner.scala:508)\n",
      "\tat org.apache.spark.InterruptibleIterator.hasNext(InterruptibleIterator.scala:37)\n",
      "\tat scala.collection.Iterator.foreach(Iterator.scala:943)\n",
      "\tat scala.collection.Iterator.foreach$(Iterator.scala:943)\n",
      "\tat org.apache.spark.InterruptibleIterator.foreach(InterruptibleIterator.scala:28)\n",
      "\tat scala.collection.generic.Growable.$plus$plus$eq(Growable.scala:62)\n",
      "\tat scala.collection.generic.Growable.$plus$plus$eq$(Growable.scala:53)\n",
      "\tat scala.collection.mutable.ArrayBuffer.$plus$plus$eq(ArrayBuffer.scala:105)\n",
      "\tat scala.collection.mutable.ArrayBuffer.$plus$plus$eq(ArrayBuffer.scala:49)\n",
      "\tat scala.collection.TraversableOnce.to(TraversableOnce.scala:366)\n",
      "\tat scala.collection.TraversableOnce.to$(TraversableOnce.scala:364)\n",
      "\tat org.apache.spark.InterruptibleIterator.to(InterruptibleIterator.scala:28)\n",
      "\tat scala.collection.TraversableOnce.toBuffer(TraversableOnce.scala:358)\n",
      "\tat scala.collection.TraversableOnce.toBuffer$(TraversableOnce.scala:358)\n",
      "\tat org.apache.spark.InterruptibleIterator.toBuffer(InterruptibleIterator.scala:28)\n",
      "\tat scala.collection.TraversableOnce.toArray(TraversableOnce.scala:345)\n",
      "\tat scala.collection.TraversableOnce.toArray$(TraversableOnce.scala:339)\n",
      "\tat org.apache.spark.InterruptibleIterator.toArray(InterruptibleIterator.scala:28)\n",
      "\tat org.apache.spark.rdd.RDD.$anonfun$collect$2(RDD.scala:1030)\n",
      "\tat org.apache.spark.SparkContext.$anonfun$runJob$5(SparkContext.scala:2254)\n",
      "\tat org.apache.spark.scheduler.ResultTask.runTask(ResultTask.scala:90)\n",
      "\tat org.apache.spark.scheduler.Task.run(Task.scala:131)\n",
      "\tat org.apache.spark.executor.Executor$TaskRunner.$anonfun$run$3(Executor.scala:506)\n",
      "\tat org.apache.spark.util.Utils$.tryWithSafeFinally(Utils.scala:1462)\n",
      "\tat org.apache.spark.executor.Executor$TaskRunner.run(Executor.scala:509)\n",
      "\tat java.util.concurrent.ThreadPoolExecutor.runWorker(ThreadPoolExecutor.java:1149)\n",
      "\tat java.util.concurrent.ThreadPoolExecutor$Worker.run(ThreadPoolExecutor.java:624)\n",
      "\tat java.lang.Thread.run(Thread.java:748)\n",
      "22/06/27 10:06:00 WARN TaskSetManager: Lost task 2.0 in stage 9.0 (TID 30) (localhost executor driver): org.apache.spark.api.python.PythonException: Traceback (most recent call last):\n",
      "  File \"/opt/spark/python/lib/pyspark.zip/pyspark/worker.py\", line 619, in main\n",
      "    process()\n",
      "  File \"/opt/spark/python/lib/pyspark.zip/pyspark/worker.py\", line 611, in process\n",
      "    serializer.dump_stream(out_iter, outfile)\n",
      "  File \"/opt/spark/python/lib/pyspark.zip/pyspark/serializers.py\", line 259, in dump_stream\n",
      "    vs = list(itertools.islice(iterator, batch))\n",
      "  File \"/opt/spark/python/lib/pyspark.zip/pyspark/util.py\", line 74, in wrapper\n",
      "    return f(*args, **kwargs)\n",
      "  File \"/tmp/ipykernel_91458/95641023.py\", line 5, in convert_kwh_data_to_numeric\n",
      "ValueError: could not convert string to float: 'Null'\n",
      "\n",
      "\tat org.apache.spark.api.python.BasePythonRunner$ReaderIterator.handlePythonException(PythonRunner.scala:555)\n",
      "\tat org.apache.spark.api.python.PythonRunner$$anon$3.read(PythonRunner.scala:713)\n",
      "\tat org.apache.spark.api.python.PythonRunner$$anon$3.read(PythonRunner.scala:695)\n",
      "\tat org.apache.spark.api.python.BasePythonRunner$ReaderIterator.hasNext(PythonRunner.scala:508)\n",
      "\tat org.apache.spark.InterruptibleIterator.hasNext(InterruptibleIterator.scala:37)\n",
      "\tat scala.collection.Iterator.foreach(Iterator.scala:943)\n",
      "\tat scala.collection.Iterator.foreach$(Iterator.scala:943)\n",
      "\tat org.apache.spark.InterruptibleIterator.foreach(InterruptibleIterator.scala:28)\n",
      "\tat scala.collection.generic.Growable.$plus$plus$eq(Growable.scala:62)\n",
      "\tat scala.collection.generic.Growable.$plus$plus$eq$(Growable.scala:53)\n",
      "\tat scala.collection.mutable.ArrayBuffer.$plus$plus$eq(ArrayBuffer.scala:105)\n",
      "\tat scala.collection.mutable.ArrayBuffer.$plus$plus$eq(ArrayBuffer.scala:49)\n",
      "\tat scala.collection.TraversableOnce.to(TraversableOnce.scala:366)\n",
      "\tat scala.collection.TraversableOnce.to$(TraversableOnce.scala:364)\n",
      "\tat org.apache.spark.InterruptibleIterator.to(InterruptibleIterator.scala:28)\n",
      "\tat scala.collection.TraversableOnce.toBuffer(TraversableOnce.scala:358)\n",
      "\tat scala.collection.TraversableOnce.toBuffer$(TraversableOnce.scala:358)\n",
      "\tat org.apache.spark.InterruptibleIterator.toBuffer(InterruptibleIterator.scala:28)\n",
      "\tat scala.collection.TraversableOnce.toArray(TraversableOnce.scala:345)\n",
      "\tat scala.collection.TraversableOnce.toArray$(TraversableOnce.scala:339)\n",
      "\tat org.apache.spark.InterruptibleIterator.toArray(InterruptibleIterator.scala:28)\n",
      "\tat org.apache.spark.rdd.RDD.$anonfun$collect$2(RDD.scala:1030)\n",
      "\tat org.apache.spark.SparkContext.$anonfun$runJob$5(SparkContext.scala:2254)\n",
      "\tat org.apache.spark.scheduler.ResultTask.runTask(ResultTask.scala:90)\n",
      "\tat org.apache.spark.scheduler.Task.run(Task.scala:131)\n",
      "\tat org.apache.spark.executor.Executor$TaskRunner.$anonfun$run$3(Executor.scala:506)\n",
      "\tat org.apache.spark.util.Utils$.tryWithSafeFinally(Utils.scala:1462)\n",
      "\tat org.apache.spark.executor.Executor$TaskRunner.run(Executor.scala:509)\n",
      "\tat java.util.concurrent.ThreadPoolExecutor.runWorker(ThreadPoolExecutor.java:1149)\n",
      "\tat java.util.concurrent.ThreadPoolExecutor$Worker.run(ThreadPoolExecutor.java:624)\n",
      "\tat java.lang.Thread.run(Thread.java:748)\n",
      "\n",
      "22/06/27 10:06:00 ERROR TaskSetManager: Task 2 in stage 9.0 failed 1 times; aborting job\n"
     ]
    },
    {
     "ename": "Py4JJavaError",
     "evalue": "An error occurred while calling z:org.apache.spark.api.python.PythonRDD.collectAndServe.\n: org.apache.spark.SparkException: Job aborted due to stage failure: Task 2 in stage 9.0 failed 1 times, most recent failure: Lost task 2.0 in stage 9.0 (TID 30) (localhost executor driver): org.apache.spark.api.python.PythonException: Traceback (most recent call last):\n  File \"/opt/spark/python/lib/pyspark.zip/pyspark/worker.py\", line 619, in main\n    process()\n  File \"/opt/spark/python/lib/pyspark.zip/pyspark/worker.py\", line 611, in process\n    serializer.dump_stream(out_iter, outfile)\n  File \"/opt/spark/python/lib/pyspark.zip/pyspark/serializers.py\", line 259, in dump_stream\n    vs = list(itertools.islice(iterator, batch))\n  File \"/opt/spark/python/lib/pyspark.zip/pyspark/util.py\", line 74, in wrapper\n    return f(*args, **kwargs)\n  File \"/tmp/ipykernel_91458/95641023.py\", line 5, in convert_kwh_data_to_numeric\nValueError: could not convert string to float: 'Null'\n\n\tat org.apache.spark.api.python.BasePythonRunner$ReaderIterator.handlePythonException(PythonRunner.scala:555)\n\tat org.apache.spark.api.python.PythonRunner$$anon$3.read(PythonRunner.scala:713)\n\tat org.apache.spark.api.python.PythonRunner$$anon$3.read(PythonRunner.scala:695)\n\tat org.apache.spark.api.python.BasePythonRunner$ReaderIterator.hasNext(PythonRunner.scala:508)\n\tat org.apache.spark.InterruptibleIterator.hasNext(InterruptibleIterator.scala:37)\n\tat scala.collection.Iterator.foreach(Iterator.scala:943)\n\tat scala.collection.Iterator.foreach$(Iterator.scala:943)\n\tat org.apache.spark.InterruptibleIterator.foreach(InterruptibleIterator.scala:28)\n\tat scala.collection.generic.Growable.$plus$plus$eq(Growable.scala:62)\n\tat scala.collection.generic.Growable.$plus$plus$eq$(Growable.scala:53)\n\tat scala.collection.mutable.ArrayBuffer.$plus$plus$eq(ArrayBuffer.scala:105)\n\tat scala.collection.mutable.ArrayBuffer.$plus$plus$eq(ArrayBuffer.scala:49)\n\tat scala.collection.TraversableOnce.to(TraversableOnce.scala:366)\n\tat scala.collection.TraversableOnce.to$(TraversableOnce.scala:364)\n\tat org.apache.spark.InterruptibleIterator.to(InterruptibleIterator.scala:28)\n\tat scala.collection.TraversableOnce.toBuffer(TraversableOnce.scala:358)\n\tat scala.collection.TraversableOnce.toBuffer$(TraversableOnce.scala:358)\n\tat org.apache.spark.InterruptibleIterator.toBuffer(InterruptibleIterator.scala:28)\n\tat scala.collection.TraversableOnce.toArray(TraversableOnce.scala:345)\n\tat scala.collection.TraversableOnce.toArray$(TraversableOnce.scala:339)\n\tat org.apache.spark.InterruptibleIterator.toArray(InterruptibleIterator.scala:28)\n\tat org.apache.spark.rdd.RDD.$anonfun$collect$2(RDD.scala:1030)\n\tat org.apache.spark.SparkContext.$anonfun$runJob$5(SparkContext.scala:2254)\n\tat org.apache.spark.scheduler.ResultTask.runTask(ResultTask.scala:90)\n\tat org.apache.spark.scheduler.Task.run(Task.scala:131)\n\tat org.apache.spark.executor.Executor$TaskRunner.$anonfun$run$3(Executor.scala:506)\n\tat org.apache.spark.util.Utils$.tryWithSafeFinally(Utils.scala:1462)\n\tat org.apache.spark.executor.Executor$TaskRunner.run(Executor.scala:509)\n\tat java.util.concurrent.ThreadPoolExecutor.runWorker(ThreadPoolExecutor.java:1149)\n\tat java.util.concurrent.ThreadPoolExecutor$Worker.run(ThreadPoolExecutor.java:624)\n\tat java.lang.Thread.run(Thread.java:748)\n\nDriver stacktrace:\n\tat org.apache.spark.scheduler.DAGScheduler.failJobAndIndependentStages(DAGScheduler.scala:2454)\n\tat org.apache.spark.scheduler.DAGScheduler.$anonfun$abortStage$2(DAGScheduler.scala:2403)\n\tat org.apache.spark.scheduler.DAGScheduler.$anonfun$abortStage$2$adapted(DAGScheduler.scala:2402)\n\tat scala.collection.mutable.ResizableArray.foreach(ResizableArray.scala:62)\n\tat scala.collection.mutable.ResizableArray.foreach$(ResizableArray.scala:55)\n\tat scala.collection.mutable.ArrayBuffer.foreach(ArrayBuffer.scala:49)\n\tat org.apache.spark.scheduler.DAGScheduler.abortStage(DAGScheduler.scala:2402)\n\tat org.apache.spark.scheduler.DAGScheduler.$anonfun$handleTaskSetFailed$1(DAGScheduler.scala:1160)\n\tat org.apache.spark.scheduler.DAGScheduler.$anonfun$handleTaskSetFailed$1$adapted(DAGScheduler.scala:1160)\n\tat scala.Option.foreach(Option.scala:407)\n\tat org.apache.spark.scheduler.DAGScheduler.handleTaskSetFailed(DAGScheduler.scala:1160)\n\tat org.apache.spark.scheduler.DAGSchedulerEventProcessLoop.doOnReceive(DAGScheduler.scala:2642)\n\tat org.apache.spark.scheduler.DAGSchedulerEventProcessLoop.onReceive(DAGScheduler.scala:2584)\n\tat org.apache.spark.scheduler.DAGSchedulerEventProcessLoop.onReceive(DAGScheduler.scala:2573)\n\tat org.apache.spark.util.EventLoop$$anon$1.run(EventLoop.scala:49)\n\tat org.apache.spark.scheduler.DAGScheduler.runJob(DAGScheduler.scala:938)\n\tat org.apache.spark.SparkContext.runJob(SparkContext.scala:2214)\n\tat org.apache.spark.SparkContext.runJob(SparkContext.scala:2235)\n\tat org.apache.spark.SparkContext.runJob(SparkContext.scala:2254)\n\tat org.apache.spark.SparkContext.runJob(SparkContext.scala:2279)\n\tat org.apache.spark.rdd.RDD.$anonfun$collect$1(RDD.scala:1030)\n\tat org.apache.spark.rdd.RDDOperationScope$.withScope(RDDOperationScope.scala:151)\n\tat org.apache.spark.rdd.RDDOperationScope$.withScope(RDDOperationScope.scala:112)\n\tat org.apache.spark.rdd.RDD.withScope(RDD.scala:414)\n\tat org.apache.spark.rdd.RDD.collect(RDD.scala:1029)\n\tat org.apache.spark.api.python.PythonRDD$.collectAndServe(PythonRDD.scala:180)\n\tat org.apache.spark.api.python.PythonRDD.collectAndServe(PythonRDD.scala)\n\tat sun.reflect.NativeMethodAccessorImpl.invoke0(Native Method)\n\tat sun.reflect.NativeMethodAccessorImpl.invoke(NativeMethodAccessorImpl.java:62)\n\tat sun.reflect.DelegatingMethodAccessorImpl.invoke(DelegatingMethodAccessorImpl.java:43)\n\tat java.lang.reflect.Method.invoke(Method.java:498)\n\tat py4j.reflection.MethodInvoker.invoke(MethodInvoker.java:244)\n\tat py4j.reflection.ReflectionEngine.invoke(ReflectionEngine.java:357)\n\tat py4j.Gateway.invoke(Gateway.java:282)\n\tat py4j.commands.AbstractCommand.invokeMethod(AbstractCommand.java:132)\n\tat py4j.commands.CallCommand.execute(CallCommand.java:79)\n\tat py4j.ClientServerConnection.waitForCommands(ClientServerConnection.java:182)\n\tat py4j.ClientServerConnection.run(ClientServerConnection.java:106)\n\tat java.lang.Thread.run(Thread.java:748)\nCaused by: org.apache.spark.api.python.PythonException: Traceback (most recent call last):\n  File \"/opt/spark/python/lib/pyspark.zip/pyspark/worker.py\", line 619, in main\n    process()\n  File \"/opt/spark/python/lib/pyspark.zip/pyspark/worker.py\", line 611, in process\n    serializer.dump_stream(out_iter, outfile)\n  File \"/opt/spark/python/lib/pyspark.zip/pyspark/serializers.py\", line 259, in dump_stream\n    vs = list(itertools.islice(iterator, batch))\n  File \"/opt/spark/python/lib/pyspark.zip/pyspark/util.py\", line 74, in wrapper\n    return f(*args, **kwargs)\n  File \"/tmp/ipykernel_91458/95641023.py\", line 5, in convert_kwh_data_to_numeric\nValueError: could not convert string to float: 'Null'\n\n\tat org.apache.spark.api.python.BasePythonRunner$ReaderIterator.handlePythonException(PythonRunner.scala:555)\n\tat org.apache.spark.api.python.PythonRunner$$anon$3.read(PythonRunner.scala:713)\n\tat org.apache.spark.api.python.PythonRunner$$anon$3.read(PythonRunner.scala:695)\n\tat org.apache.spark.api.python.BasePythonRunner$ReaderIterator.hasNext(PythonRunner.scala:508)\n\tat org.apache.spark.InterruptibleIterator.hasNext(InterruptibleIterator.scala:37)\n\tat scala.collection.Iterator.foreach(Iterator.scala:943)\n\tat scala.collection.Iterator.foreach$(Iterator.scala:943)\n\tat org.apache.spark.InterruptibleIterator.foreach(InterruptibleIterator.scala:28)\n\tat scala.collection.generic.Growable.$plus$plus$eq(Growable.scala:62)\n\tat scala.collection.generic.Growable.$plus$plus$eq$(Growable.scala:53)\n\tat scala.collection.mutable.ArrayBuffer.$plus$plus$eq(ArrayBuffer.scala:105)\n\tat scala.collection.mutable.ArrayBuffer.$plus$plus$eq(ArrayBuffer.scala:49)\n\tat scala.collection.TraversableOnce.to(TraversableOnce.scala:366)\n\tat scala.collection.TraversableOnce.to$(TraversableOnce.scala:364)\n\tat org.apache.spark.InterruptibleIterator.to(InterruptibleIterator.scala:28)\n\tat scala.collection.TraversableOnce.toBuffer(TraversableOnce.scala:358)\n\tat scala.collection.TraversableOnce.toBuffer$(TraversableOnce.scala:358)\n\tat org.apache.spark.InterruptibleIterator.toBuffer(InterruptibleIterator.scala:28)\n\tat scala.collection.TraversableOnce.toArray(TraversableOnce.scala:345)\n\tat scala.collection.TraversableOnce.toArray$(TraversableOnce.scala:339)\n\tat org.apache.spark.InterruptibleIterator.toArray(InterruptibleIterator.scala:28)\n\tat org.apache.spark.rdd.RDD.$anonfun$collect$2(RDD.scala:1030)\n\tat org.apache.spark.SparkContext.$anonfun$runJob$5(SparkContext.scala:2254)\n\tat org.apache.spark.scheduler.ResultTask.runTask(ResultTask.scala:90)\n\tat org.apache.spark.scheduler.Task.run(Task.scala:131)\n\tat org.apache.spark.executor.Executor$TaskRunner.$anonfun$run$3(Executor.scala:506)\n\tat org.apache.spark.util.Utils$.tryWithSafeFinally(Utils.scala:1462)\n\tat org.apache.spark.executor.Executor$TaskRunner.run(Executor.scala:509)\n\tat java.util.concurrent.ThreadPoolExecutor.runWorker(ThreadPoolExecutor.java:1149)\n\tat java.util.concurrent.ThreadPoolExecutor$Worker.run(ThreadPoolExecutor.java:624)\n\t... 1 more\n",
     "output_type": "error",
     "traceback": [
      "\u001b[0;31m---------------------------------------------------------------------------\u001b[0m",
      "\u001b[0;31mPy4JJavaError\u001b[0m                             Traceback (most recent call last)",
      "Input \u001b[0;32mIn [15]\u001b[0m, in \u001b[0;36m<cell line: 2>\u001b[0;34m()\u001b[0m\n\u001b[1;32m      1\u001b[0m numeric_kwh_test_data \u001b[38;5;241m=\u001b[39m split_test_data\u001b[38;5;241m.\u001b[39mmap(convert_kwh_data_to_numeric)\n\u001b[0;32m----> 2\u001b[0m \u001b[43mnumeric_kwh_test_data\u001b[49m\u001b[38;5;241;43m.\u001b[39;49m\u001b[43mcollect\u001b[49m\u001b[43m(\u001b[49m\u001b[43m)\u001b[49m\n",
      "File \u001b[0;32m/opt/spark/python/pyspark/rdd.py:950\u001b[0m, in \u001b[0;36mRDD.collect\u001b[0;34m(self)\u001b[0m\n\u001b[1;32m    941\u001b[0m \u001b[38;5;124;03m\"\"\"\u001b[39;00m\n\u001b[1;32m    942\u001b[0m \u001b[38;5;124;03mReturn a list that contains all of the elements in this RDD.\u001b[39;00m\n\u001b[1;32m    943\u001b[0m \n\u001b[0;32m   (...)\u001b[0m\n\u001b[1;32m    947\u001b[0m \u001b[38;5;124;03mto be small, as all the data is loaded into the driver's memory.\u001b[39;00m\n\u001b[1;32m    948\u001b[0m \u001b[38;5;124;03m\"\"\"\u001b[39;00m\n\u001b[1;32m    949\u001b[0m \u001b[38;5;28;01mwith\u001b[39;00m SCCallSiteSync(\u001b[38;5;28mself\u001b[39m\u001b[38;5;241m.\u001b[39mcontext) \u001b[38;5;28;01mas\u001b[39;00m css:\n\u001b[0;32m--> 950\u001b[0m     sock_info \u001b[38;5;241m=\u001b[39m \u001b[38;5;28;43mself\u001b[39;49m\u001b[38;5;241;43m.\u001b[39;49m\u001b[43mctx\u001b[49m\u001b[38;5;241;43m.\u001b[39;49m\u001b[43m_jvm\u001b[49m\u001b[38;5;241;43m.\u001b[39;49m\u001b[43mPythonRDD\u001b[49m\u001b[38;5;241;43m.\u001b[39;49m\u001b[43mcollectAndServe\u001b[49m\u001b[43m(\u001b[49m\u001b[38;5;28;43mself\u001b[39;49m\u001b[38;5;241;43m.\u001b[39;49m\u001b[43m_jrdd\u001b[49m\u001b[38;5;241;43m.\u001b[39;49m\u001b[43mrdd\u001b[49m\u001b[43m(\u001b[49m\u001b[43m)\u001b[49m\u001b[43m)\u001b[49m\n\u001b[1;32m    951\u001b[0m \u001b[38;5;28;01mreturn\u001b[39;00m \u001b[38;5;28mlist\u001b[39m(_load_from_socket(sock_info, \u001b[38;5;28mself\u001b[39m\u001b[38;5;241m.\u001b[39m_jrdd_deserializer))\n",
      "File \u001b[0;32m/opt/spark/python/lib/py4j-0.10.9.3-src.zip/py4j/java_gateway.py:1321\u001b[0m, in \u001b[0;36mJavaMember.__call__\u001b[0;34m(self, *args)\u001b[0m\n\u001b[1;32m   1315\u001b[0m command \u001b[38;5;241m=\u001b[39m proto\u001b[38;5;241m.\u001b[39mCALL_COMMAND_NAME \u001b[38;5;241m+\u001b[39m\\\n\u001b[1;32m   1316\u001b[0m     \u001b[38;5;28mself\u001b[39m\u001b[38;5;241m.\u001b[39mcommand_header \u001b[38;5;241m+\u001b[39m\\\n\u001b[1;32m   1317\u001b[0m     args_command \u001b[38;5;241m+\u001b[39m\\\n\u001b[1;32m   1318\u001b[0m     proto\u001b[38;5;241m.\u001b[39mEND_COMMAND_PART\n\u001b[1;32m   1320\u001b[0m answer \u001b[38;5;241m=\u001b[39m \u001b[38;5;28mself\u001b[39m\u001b[38;5;241m.\u001b[39mgateway_client\u001b[38;5;241m.\u001b[39msend_command(command)\n\u001b[0;32m-> 1321\u001b[0m return_value \u001b[38;5;241m=\u001b[39m \u001b[43mget_return_value\u001b[49m\u001b[43m(\u001b[49m\n\u001b[1;32m   1322\u001b[0m \u001b[43m    \u001b[49m\u001b[43manswer\u001b[49m\u001b[43m,\u001b[49m\u001b[43m \u001b[49m\u001b[38;5;28;43mself\u001b[39;49m\u001b[38;5;241;43m.\u001b[39;49m\u001b[43mgateway_client\u001b[49m\u001b[43m,\u001b[49m\u001b[43m \u001b[49m\u001b[38;5;28;43mself\u001b[39;49m\u001b[38;5;241;43m.\u001b[39;49m\u001b[43mtarget_id\u001b[49m\u001b[43m,\u001b[49m\u001b[43m \u001b[49m\u001b[38;5;28;43mself\u001b[39;49m\u001b[38;5;241;43m.\u001b[39;49m\u001b[43mname\u001b[49m\u001b[43m)\u001b[49m\n\u001b[1;32m   1324\u001b[0m \u001b[38;5;28;01mfor\u001b[39;00m temp_arg \u001b[38;5;129;01min\u001b[39;00m temp_args:\n\u001b[1;32m   1325\u001b[0m     temp_arg\u001b[38;5;241m.\u001b[39m_detach()\n",
      "File \u001b[0;32m/opt/spark/python/lib/py4j-0.10.9.3-src.zip/py4j/protocol.py:326\u001b[0m, in \u001b[0;36mget_return_value\u001b[0;34m(answer, gateway_client, target_id, name)\u001b[0m\n\u001b[1;32m    324\u001b[0m value \u001b[38;5;241m=\u001b[39m OUTPUT_CONVERTER[\u001b[38;5;28mtype\u001b[39m](answer[\u001b[38;5;241m2\u001b[39m:], gateway_client)\n\u001b[1;32m    325\u001b[0m \u001b[38;5;28;01mif\u001b[39;00m answer[\u001b[38;5;241m1\u001b[39m] \u001b[38;5;241m==\u001b[39m REFERENCE_TYPE:\n\u001b[0;32m--> 326\u001b[0m     \u001b[38;5;28;01mraise\u001b[39;00m Py4JJavaError(\n\u001b[1;32m    327\u001b[0m         \u001b[38;5;124m\"\u001b[39m\u001b[38;5;124mAn error occurred while calling \u001b[39m\u001b[38;5;132;01m{0}\u001b[39;00m\u001b[38;5;132;01m{1}\u001b[39;00m\u001b[38;5;132;01m{2}\u001b[39;00m\u001b[38;5;124m.\u001b[39m\u001b[38;5;130;01m\\n\u001b[39;00m\u001b[38;5;124m\"\u001b[39m\u001b[38;5;241m.\u001b[39m\n\u001b[1;32m    328\u001b[0m         \u001b[38;5;28mformat\u001b[39m(target_id, \u001b[38;5;124m\"\u001b[39m\u001b[38;5;124m.\u001b[39m\u001b[38;5;124m\"\u001b[39m, name), value)\n\u001b[1;32m    329\u001b[0m \u001b[38;5;28;01melse\u001b[39;00m:\n\u001b[1;32m    330\u001b[0m     \u001b[38;5;28;01mraise\u001b[39;00m Py4JError(\n\u001b[1;32m    331\u001b[0m         \u001b[38;5;124m\"\u001b[39m\u001b[38;5;124mAn error occurred while calling \u001b[39m\u001b[38;5;132;01m{0}\u001b[39;00m\u001b[38;5;132;01m{1}\u001b[39;00m\u001b[38;5;132;01m{2}\u001b[39;00m\u001b[38;5;124m. Trace:\u001b[39m\u001b[38;5;130;01m\\n\u001b[39;00m\u001b[38;5;132;01m{3}\u001b[39;00m\u001b[38;5;130;01m\\n\u001b[39;00m\u001b[38;5;124m\"\u001b[39m\u001b[38;5;241m.\u001b[39m\n\u001b[1;32m    332\u001b[0m         \u001b[38;5;28mformat\u001b[39m(target_id, \u001b[38;5;124m\"\u001b[39m\u001b[38;5;124m.\u001b[39m\u001b[38;5;124m\"\u001b[39m, name, value))\n",
      "\u001b[0;31mPy4JJavaError\u001b[0m: An error occurred while calling z:org.apache.spark.api.python.PythonRDD.collectAndServe.\n: org.apache.spark.SparkException: Job aborted due to stage failure: Task 2 in stage 9.0 failed 1 times, most recent failure: Lost task 2.0 in stage 9.0 (TID 30) (localhost executor driver): org.apache.spark.api.python.PythonException: Traceback (most recent call last):\n  File \"/opt/spark/python/lib/pyspark.zip/pyspark/worker.py\", line 619, in main\n    process()\n  File \"/opt/spark/python/lib/pyspark.zip/pyspark/worker.py\", line 611, in process\n    serializer.dump_stream(out_iter, outfile)\n  File \"/opt/spark/python/lib/pyspark.zip/pyspark/serializers.py\", line 259, in dump_stream\n    vs = list(itertools.islice(iterator, batch))\n  File \"/opt/spark/python/lib/pyspark.zip/pyspark/util.py\", line 74, in wrapper\n    return f(*args, **kwargs)\n  File \"/tmp/ipykernel_91458/95641023.py\", line 5, in convert_kwh_data_to_numeric\nValueError: could not convert string to float: 'Null'\n\n\tat org.apache.spark.api.python.BasePythonRunner$ReaderIterator.handlePythonException(PythonRunner.scala:555)\n\tat org.apache.spark.api.python.PythonRunner$$anon$3.read(PythonRunner.scala:713)\n\tat org.apache.spark.api.python.PythonRunner$$anon$3.read(PythonRunner.scala:695)\n\tat org.apache.spark.api.python.BasePythonRunner$ReaderIterator.hasNext(PythonRunner.scala:508)\n\tat org.apache.spark.InterruptibleIterator.hasNext(InterruptibleIterator.scala:37)\n\tat scala.collection.Iterator.foreach(Iterator.scala:943)\n\tat scala.collection.Iterator.foreach$(Iterator.scala:943)\n\tat org.apache.spark.InterruptibleIterator.foreach(InterruptibleIterator.scala:28)\n\tat scala.collection.generic.Growable.$plus$plus$eq(Growable.scala:62)\n\tat scala.collection.generic.Growable.$plus$plus$eq$(Growable.scala:53)\n\tat scala.collection.mutable.ArrayBuffer.$plus$plus$eq(ArrayBuffer.scala:105)\n\tat scala.collection.mutable.ArrayBuffer.$plus$plus$eq(ArrayBuffer.scala:49)\n\tat scala.collection.TraversableOnce.to(TraversableOnce.scala:366)\n\tat scala.collection.TraversableOnce.to$(TraversableOnce.scala:364)\n\tat org.apache.spark.InterruptibleIterator.to(InterruptibleIterator.scala:28)\n\tat scala.collection.TraversableOnce.toBuffer(TraversableOnce.scala:358)\n\tat scala.collection.TraversableOnce.toBuffer$(TraversableOnce.scala:358)\n\tat org.apache.spark.InterruptibleIterator.toBuffer(InterruptibleIterator.scala:28)\n\tat scala.collection.TraversableOnce.toArray(TraversableOnce.scala:345)\n\tat scala.collection.TraversableOnce.toArray$(TraversableOnce.scala:339)\n\tat org.apache.spark.InterruptibleIterator.toArray(InterruptibleIterator.scala:28)\n\tat org.apache.spark.rdd.RDD.$anonfun$collect$2(RDD.scala:1030)\n\tat org.apache.spark.SparkContext.$anonfun$runJob$5(SparkContext.scala:2254)\n\tat org.apache.spark.scheduler.ResultTask.runTask(ResultTask.scala:90)\n\tat org.apache.spark.scheduler.Task.run(Task.scala:131)\n\tat org.apache.spark.executor.Executor$TaskRunner.$anonfun$run$3(Executor.scala:506)\n\tat org.apache.spark.util.Utils$.tryWithSafeFinally(Utils.scala:1462)\n\tat org.apache.spark.executor.Executor$TaskRunner.run(Executor.scala:509)\n\tat java.util.concurrent.ThreadPoolExecutor.runWorker(ThreadPoolExecutor.java:1149)\n\tat java.util.concurrent.ThreadPoolExecutor$Worker.run(ThreadPoolExecutor.java:624)\n\tat java.lang.Thread.run(Thread.java:748)\n\nDriver stacktrace:\n\tat org.apache.spark.scheduler.DAGScheduler.failJobAndIndependentStages(DAGScheduler.scala:2454)\n\tat org.apache.spark.scheduler.DAGScheduler.$anonfun$abortStage$2(DAGScheduler.scala:2403)\n\tat org.apache.spark.scheduler.DAGScheduler.$anonfun$abortStage$2$adapted(DAGScheduler.scala:2402)\n\tat scala.collection.mutable.ResizableArray.foreach(ResizableArray.scala:62)\n\tat scala.collection.mutable.ResizableArray.foreach$(ResizableArray.scala:55)\n\tat scala.collection.mutable.ArrayBuffer.foreach(ArrayBuffer.scala:49)\n\tat org.apache.spark.scheduler.DAGScheduler.abortStage(DAGScheduler.scala:2402)\n\tat org.apache.spark.scheduler.DAGScheduler.$anonfun$handleTaskSetFailed$1(DAGScheduler.scala:1160)\n\tat org.apache.spark.scheduler.DAGScheduler.$anonfun$handleTaskSetFailed$1$adapted(DAGScheduler.scala:1160)\n\tat scala.Option.foreach(Option.scala:407)\n\tat org.apache.spark.scheduler.DAGScheduler.handleTaskSetFailed(DAGScheduler.scala:1160)\n\tat org.apache.spark.scheduler.DAGSchedulerEventProcessLoop.doOnReceive(DAGScheduler.scala:2642)\n\tat org.apache.spark.scheduler.DAGSchedulerEventProcessLoop.onReceive(DAGScheduler.scala:2584)\n\tat org.apache.spark.scheduler.DAGSchedulerEventProcessLoop.onReceive(DAGScheduler.scala:2573)\n\tat org.apache.spark.util.EventLoop$$anon$1.run(EventLoop.scala:49)\n\tat org.apache.spark.scheduler.DAGScheduler.runJob(DAGScheduler.scala:938)\n\tat org.apache.spark.SparkContext.runJob(SparkContext.scala:2214)\n\tat org.apache.spark.SparkContext.runJob(SparkContext.scala:2235)\n\tat org.apache.spark.SparkContext.runJob(SparkContext.scala:2254)\n\tat org.apache.spark.SparkContext.runJob(SparkContext.scala:2279)\n\tat org.apache.spark.rdd.RDD.$anonfun$collect$1(RDD.scala:1030)\n\tat org.apache.spark.rdd.RDDOperationScope$.withScope(RDDOperationScope.scala:151)\n\tat org.apache.spark.rdd.RDDOperationScope$.withScope(RDDOperationScope.scala:112)\n\tat org.apache.spark.rdd.RDD.withScope(RDD.scala:414)\n\tat org.apache.spark.rdd.RDD.collect(RDD.scala:1029)\n\tat org.apache.spark.api.python.PythonRDD$.collectAndServe(PythonRDD.scala:180)\n\tat org.apache.spark.api.python.PythonRDD.collectAndServe(PythonRDD.scala)\n\tat sun.reflect.NativeMethodAccessorImpl.invoke0(Native Method)\n\tat sun.reflect.NativeMethodAccessorImpl.invoke(NativeMethodAccessorImpl.java:62)\n\tat sun.reflect.DelegatingMethodAccessorImpl.invoke(DelegatingMethodAccessorImpl.java:43)\n\tat java.lang.reflect.Method.invoke(Method.java:498)\n\tat py4j.reflection.MethodInvoker.invoke(MethodInvoker.java:244)\n\tat py4j.reflection.ReflectionEngine.invoke(ReflectionEngine.java:357)\n\tat py4j.Gateway.invoke(Gateway.java:282)\n\tat py4j.commands.AbstractCommand.invokeMethod(AbstractCommand.java:132)\n\tat py4j.commands.CallCommand.execute(CallCommand.java:79)\n\tat py4j.ClientServerConnection.waitForCommands(ClientServerConnection.java:182)\n\tat py4j.ClientServerConnection.run(ClientServerConnection.java:106)\n\tat java.lang.Thread.run(Thread.java:748)\nCaused by: org.apache.spark.api.python.PythonException: Traceback (most recent call last):\n  File \"/opt/spark/python/lib/pyspark.zip/pyspark/worker.py\", line 619, in main\n    process()\n  File \"/opt/spark/python/lib/pyspark.zip/pyspark/worker.py\", line 611, in process\n    serializer.dump_stream(out_iter, outfile)\n  File \"/opt/spark/python/lib/pyspark.zip/pyspark/serializers.py\", line 259, in dump_stream\n    vs = list(itertools.islice(iterator, batch))\n  File \"/opt/spark/python/lib/pyspark.zip/pyspark/util.py\", line 74, in wrapper\n    return f(*args, **kwargs)\n  File \"/tmp/ipykernel_91458/95641023.py\", line 5, in convert_kwh_data_to_numeric\nValueError: could not convert string to float: 'Null'\n\n\tat org.apache.spark.api.python.BasePythonRunner$ReaderIterator.handlePythonException(PythonRunner.scala:555)\n\tat org.apache.spark.api.python.PythonRunner$$anon$3.read(PythonRunner.scala:713)\n\tat org.apache.spark.api.python.PythonRunner$$anon$3.read(PythonRunner.scala:695)\n\tat org.apache.spark.api.python.BasePythonRunner$ReaderIterator.hasNext(PythonRunner.scala:508)\n\tat org.apache.spark.InterruptibleIterator.hasNext(InterruptibleIterator.scala:37)\n\tat scala.collection.Iterator.foreach(Iterator.scala:943)\n\tat scala.collection.Iterator.foreach$(Iterator.scala:943)\n\tat org.apache.spark.InterruptibleIterator.foreach(InterruptibleIterator.scala:28)\n\tat scala.collection.generic.Growable.$plus$plus$eq(Growable.scala:62)\n\tat scala.collection.generic.Growable.$plus$plus$eq$(Growable.scala:53)\n\tat scala.collection.mutable.ArrayBuffer.$plus$plus$eq(ArrayBuffer.scala:105)\n\tat scala.collection.mutable.ArrayBuffer.$plus$plus$eq(ArrayBuffer.scala:49)\n\tat scala.collection.TraversableOnce.to(TraversableOnce.scala:366)\n\tat scala.collection.TraversableOnce.to$(TraversableOnce.scala:364)\n\tat org.apache.spark.InterruptibleIterator.to(InterruptibleIterator.scala:28)\n\tat scala.collection.TraversableOnce.toBuffer(TraversableOnce.scala:358)\n\tat scala.collection.TraversableOnce.toBuffer$(TraversableOnce.scala:358)\n\tat org.apache.spark.InterruptibleIterator.toBuffer(InterruptibleIterator.scala:28)\n\tat scala.collection.TraversableOnce.toArray(TraversableOnce.scala:345)\n\tat scala.collection.TraversableOnce.toArray$(TraversableOnce.scala:339)\n\tat org.apache.spark.InterruptibleIterator.toArray(InterruptibleIterator.scala:28)\n\tat org.apache.spark.rdd.RDD.$anonfun$collect$2(RDD.scala:1030)\n\tat org.apache.spark.SparkContext.$anonfun$runJob$5(SparkContext.scala:2254)\n\tat org.apache.spark.scheduler.ResultTask.runTask(ResultTask.scala:90)\n\tat org.apache.spark.scheduler.Task.run(Task.scala:131)\n\tat org.apache.spark.executor.Executor$TaskRunner.$anonfun$run$3(Executor.scala:506)\n\tat org.apache.spark.util.Utils$.tryWithSafeFinally(Utils.scala:1462)\n\tat org.apache.spark.executor.Executor$TaskRunner.run(Executor.scala:509)\n\tat java.util.concurrent.ThreadPoolExecutor.runWorker(ThreadPoolExecutor.java:1149)\n\tat java.util.concurrent.ThreadPoolExecutor$Worker.run(ThreadPoolExecutor.java:624)\n\t... 1 more\n"
     ]
    }
   ],
   "source": [
    "numeric_kwh_test_data = split_test_data.map(convert_kwh_data_to_numeric)\n",
    "numeric_kwh_test_data.collect()"
   ]
  },
  {
   "cell_type": "markdown",
   "id": "bbed5c04",
   "metadata": {},
   "source": [
    "Le message d'erreur nous dit que une valeur `\"Null\"` de type chaîne empêche la transformation. Donc supprimons ces lignes d'abord avec la méthode `filter`."
   ]
  },
  {
   "cell_type": "code",
   "execution_count": 16,
   "id": "79589721",
   "metadata": {},
   "outputs": [],
   "source": [
    "def remove_nulls(x):\n",
    "    return x[3] != 'Null'"
   ]
  },
  {
   "cell_type": "code",
   "execution_count": 17,
   "id": "51b1c407",
   "metadata": {},
   "outputs": [],
   "source": [
    "filtered_test_data = split_test_data.filter(remove_nulls)"
   ]
  },
  {
   "cell_type": "code",
   "execution_count": 18,
   "id": "18767a0f",
   "metadata": {},
   "outputs": [
    {
     "data": {
      "text/plain": [
       "[['MAC000002', 'Std', '2012-10-12 17:00:00.0000000', 0.493],\n",
       " ['MAC000002', 'Std', '2012-10-12 20:00:00.0000000', 0.198],\n",
       " ['MAC000002', 'Std', '2012-10-13 01:00:00.0000000', 0.275],\n",
       " ['MAC000002', 'Std', '2012-10-13 02:00:00.0000000', 0.211],\n",
       " ['MAC000002', 'Std', '2012-10-13 03:30:00.0000000', 0.119],\n",
       " ['MAC000002', 'Std', '2012-10-13 09:30:00.0000000', 0.191],\n",
       " ['MAC000002', 'Std', '2012-10-13 12:00:00.0000000', 0.076],\n",
       " ['MAC000002', 'Std', '2012-10-13 12:30:00.0000000', 0.133],\n",
       " ['MAC000002', 'Std', '2012-10-13 13:30:00.0000000', 0.133],\n",
       " ['MAC000002', 'Std', '2012-10-13 16:30:00.0000000', 0.184],\n",
       " ['MAC000002', 'Std', '2012-10-13 19:30:00.0000000', 0.278],\n",
       " ['MAC000002', 'Std', '2012-10-13 22:30:00.0000000', 0.188],\n",
       " ['MAC000002', 'Std', '2012-10-14 00:00:00.0000000', 0.262],\n",
       " ['MAC000002', 'Std', '2012-10-14 10:00:00.0000000', 0.524],\n",
       " ['MAC000002', 'Std', '2012-10-14 12:30:00.0000000', 0.22]]"
      ]
     },
     "execution_count": 18,
     "metadata": {},
     "output_type": "execute_result"
    }
   ],
   "source": [
    "numeric_kwh_test_data = filtered_test_data.map(convert_kwh_data_to_numeric)\n",
    "numeric_kwh_test_data.collect()[:15]"
   ]
  },
  {
   "cell_type": "markdown",
   "id": "fe39f743",
   "metadata": {},
   "source": [
    "Tout marche comme il faut maintenant. Maintenant on effectue la conversion de date."
   ]
  },
  {
   "cell_type": "code",
   "execution_count": 19,
   "id": "e486569c",
   "metadata": {},
   "outputs": [],
   "source": [
    "def convert_timestamp_to_date_string(x):\n",
    "    '''\n",
    "    Convert the timestamp into a date string\n",
    "    '''\n",
    "    x[2] = x[2].split(\" \")[0]\n",
    "    return x"
   ]
  },
  {
   "cell_type": "code",
   "execution_count": 20,
   "id": "d6e94293",
   "metadata": {},
   "outputs": [
    {
     "data": {
      "text/plain": [
       "[['MAC000002', 'Std', '2012-10-12', 0.493],\n",
       " ['MAC000002', 'Std', '2012-10-12', 0.198],\n",
       " ['MAC000002', 'Std', '2012-10-13', 0.275],\n",
       " ['MAC000002', 'Std', '2012-10-13', 0.211],\n",
       " ['MAC000002', 'Std', '2012-10-13', 0.119],\n",
       " ['MAC000002', 'Std', '2012-10-13', 0.191],\n",
       " ['MAC000002', 'Std', '2012-10-13', 0.076],\n",
       " ['MAC000002', 'Std', '2012-10-13', 0.133],\n",
       " ['MAC000002', 'Std', '2012-10-13', 0.133],\n",
       " ['MAC000002', 'Std', '2012-10-13', 0.184],\n",
       " ['MAC000002', 'Std', '2012-10-13', 0.278],\n",
       " ['MAC000002', 'Std', '2012-10-13', 0.188],\n",
       " ['MAC000002', 'Std', '2012-10-14', 0.262],\n",
       " ['MAC000002', 'Std', '2012-10-14', 0.524],\n",
       " ['MAC000002', 'Std', '2012-10-14', 0.22]]"
      ]
     },
     "execution_count": 20,
     "metadata": {},
     "output_type": "execute_result"
    }
   ],
   "source": [
    "cleaned_test_data = numeric_kwh_test_data.map(convert_timestamp_to_date_string)\n",
    "cleaned_test_data.collect()[:15]"
   ]
  },
  {
   "cell_type": "markdown",
   "id": "ffda8678",
   "metadata": {},
   "source": [
    "## Agréger les données"
   ]
  },
  {
   "cell_type": "markdown",
   "id": "9c26012f",
   "metadata": {},
   "source": [
    "Pour agréger on va utiliser la méthode `reduceByKey`. Pour faire cela il faut restructurer nos données en tuples de forme `(cle, donnees_a_reduire)`. Dans ce cas-ci on veut que la clé soit une clé combinée de date, résidence et type de tarif, et que les données soient les valeurs de kWh. Donc ca veut dire que la clé sera un tuple aussi."
   ]
  },
  {
   "cell_type": "code",
   "execution_count": 21,
   "id": "c734c83e",
   "metadata": {},
   "outputs": [],
   "source": [
    "def create_keyed_kwh_data(x):\n",
    "    return ( (x[0], x[1], x[2]), x[3] )"
   ]
  },
  {
   "cell_type": "code",
   "execution_count": 22,
   "id": "b538709c",
   "metadata": {},
   "outputs": [
    {
     "data": {
      "text/plain": [
       "[(('MAC000002', 'Std', '2012-10-12'), 0.493),\n",
       " (('MAC000002', 'Std', '2012-10-12'), 0.198),\n",
       " (('MAC000002', 'Std', '2012-10-13'), 0.275),\n",
       " (('MAC000002', 'Std', '2012-10-13'), 0.211),\n",
       " (('MAC000002', 'Std', '2012-10-13'), 0.119),\n",
       " (('MAC000002', 'Std', '2012-10-13'), 0.191),\n",
       " (('MAC000002', 'Std', '2012-10-13'), 0.076),\n",
       " (('MAC000002', 'Std', '2012-10-13'), 0.133),\n",
       " (('MAC000002', 'Std', '2012-10-13'), 0.133),\n",
       " (('MAC000002', 'Std', '2012-10-13'), 0.184),\n",
       " (('MAC000002', 'Std', '2012-10-13'), 0.278),\n",
       " (('MAC000002', 'Std', '2012-10-13'), 0.188),\n",
       " (('MAC000002', 'Std', '2012-10-14'), 0.262),\n",
       " (('MAC000002', 'Std', '2012-10-14'), 0.524),\n",
       " (('MAC000002', 'Std', '2012-10-14'), 0.22)]"
      ]
     },
     "execution_count": 22,
     "metadata": {},
     "output_type": "execute_result"
    }
   ],
   "source": [
    "keyed_kwh_data = cleaned_test_data.map(create_keyed_kwh_data)\n",
    "keyed_kwh_data.collect()[:15]"
   ]
  },
  {
   "cell_type": "markdown",
   "id": "47fbaf6d",
   "metadata": {},
   "source": [
    "Maintenant on utilise `reduceByKey` pour additioner les valeurs de kWh."
   ]
  },
  {
   "cell_type": "code",
   "execution_count": 23,
   "id": "30cebf7b",
   "metadata": {},
   "outputs": [
    {
     "data": {
      "text/plain": [
       "[(('MAC000002', 'Std', '2012-10-12'), 7.098000000000001),\n",
       " (('MAC000002', 'Std', '2012-10-18'), 10.750999999999998),\n",
       " (('MAC000002', 'Std', '2012-10-24'), 15.5370001),\n",
       " (('MAC000002', 'Std', '2012-10-25'), 13.128),\n",
       " (('MAC000002', 'Std', '2012-11-01'), 12.209),\n",
       " (('MAC000002', 'Std', '2012-11-03'), 14.347),\n",
       " (('MAC000002', 'Std', '2012-11-10'), 13.245000000000001),\n",
       " (('MAC000002', 'Std', '2012-11-12'), 12.321000000000002),\n",
       " (('MAC000002', 'Std', '2012-11-13'), 10.264000000000001),\n",
       " (('MAC000002', 'Std', '2012-11-22'), 9.44),\n",
       " (('MAC000002', 'Std', '2012-12-08'), 13.441999999999998),\n",
       " (('MAC000002', 'Std', '2012-12-28'), 11.157),\n",
       " (('MAC000002', 'Std', '2013-01-01'), 10.8),\n",
       " (('MAC000002', 'Std', '2013-01-06'), 10.293000000000001),\n",
       " (('MAC000002', 'Std', '2013-01-11'), 10.978999899999996)]"
      ]
     },
     "execution_count": 23,
     "metadata": {},
     "output_type": "execute_result"
    }
   ],
   "source": [
    "aggregated_test_data = keyed_kwh_data.reduceByKey(lambda x, y : x + y)\n",
    "aggregated_test_data.collect()[:15]"
   ]
  },
  {
   "cell_type": "code",
   "execution_count": 24,
   "id": "86a14e5d",
   "metadata": {},
   "outputs": [
    {
     "data": {
      "text/plain": [
       "[('MAC000002', 'Std', '2012-10-12', 7.098000000000001),\n",
       " ('MAC000002', 'Std', '2012-10-18', 10.750999999999998),\n",
       " ('MAC000002', 'Std', '2012-10-24', 15.5370001),\n",
       " ('MAC000002', 'Std', '2012-10-25', 13.128),\n",
       " ('MAC000002', 'Std', '2012-11-01', 12.209),\n",
       " ('MAC000002', 'Std', '2012-11-03', 14.347),\n",
       " ('MAC000002', 'Std', '2012-11-10', 13.245000000000001),\n",
       " ('MAC000002', 'Std', '2012-11-12', 12.321000000000002),\n",
       " ('MAC000002', 'Std', '2012-11-13', 10.264000000000001),\n",
       " ('MAC000002', 'Std', '2012-11-22', 9.44),\n",
       " ('MAC000002', 'Std', '2012-12-08', 13.441999999999998),\n",
       " ('MAC000002', 'Std', '2012-12-28', 11.157),\n",
       " ('MAC000002', 'Std', '2013-01-01', 10.8),\n",
       " ('MAC000002', 'Std', '2013-01-06', 10.293000000000001),\n",
       " ('MAC000002', 'Std', '2013-01-11', 10.978999899999996)]"
      ]
     },
     "execution_count": 24,
     "metadata": {},
     "output_type": "execute_result"
    }
   ],
   "source": [
    "aggregated_test_data_table = aggregated_test_data.map(lambda x : (x[0][0], x[0][1], x[0][2], x[1]))\n",
    "aggregated_test_data_table.collect()[:15]"
   ]
  },
  {
   "cell_type": "markdown",
   "id": "58ee5907",
   "metadata": {},
   "source": [
    "Et pour terminer on convertit le résultat en dataframe Pandas."
   ]
  },
  {
   "cell_type": "code",
   "execution_count": 25,
   "id": "17f34e20",
   "metadata": {},
   "outputs": [
    {
     "data": {
      "text/html": [
       "<div>\n",
       "<style scoped>\n",
       "    .dataframe tbody tr th:only-of-type {\n",
       "        vertical-align: middle;\n",
       "    }\n",
       "\n",
       "    .dataframe tbody tr th {\n",
       "        vertical-align: top;\n",
       "    }\n",
       "\n",
       "    .dataframe thead th {\n",
       "        text-align: right;\n",
       "    }\n",
       "</style>\n",
       "<table border=\"1\" class=\"dataframe\">\n",
       "  <thead>\n",
       "    <tr style=\"text-align: right;\">\n",
       "      <th></th>\n",
       "      <th>Household ID</th>\n",
       "      <th>Tariff Type</th>\n",
       "      <th>Date</th>\n",
       "      <th>kWh</th>\n",
       "    </tr>\n",
       "  </thead>\n",
       "  <tbody>\n",
       "    <tr>\n",
       "      <th>0</th>\n",
       "      <td>MAC000002</td>\n",
       "      <td>Std</td>\n",
       "      <td>2012-10-12</td>\n",
       "      <td>7.098</td>\n",
       "    </tr>\n",
       "    <tr>\n",
       "      <th>1</th>\n",
       "      <td>MAC000002</td>\n",
       "      <td>Std</td>\n",
       "      <td>2012-10-18</td>\n",
       "      <td>10.751</td>\n",
       "    </tr>\n",
       "    <tr>\n",
       "      <th>2</th>\n",
       "      <td>MAC000002</td>\n",
       "      <td>Std</td>\n",
       "      <td>2012-10-24</td>\n",
       "      <td>15.537</td>\n",
       "    </tr>\n",
       "    <tr>\n",
       "      <th>3</th>\n",
       "      <td>MAC000002</td>\n",
       "      <td>Std</td>\n",
       "      <td>2012-10-25</td>\n",
       "      <td>13.128</td>\n",
       "    </tr>\n",
       "    <tr>\n",
       "      <th>4</th>\n",
       "      <td>MAC000002</td>\n",
       "      <td>Std</td>\n",
       "      <td>2012-11-01</td>\n",
       "      <td>12.209</td>\n",
       "    </tr>\n",
       "    <tr>\n",
       "      <th>...</th>\n",
       "      <td>...</td>\n",
       "      <td>...</td>\n",
       "      <td>...</td>\n",
       "      <td>...</td>\n",
       "    </tr>\n",
       "    <tr>\n",
       "      <th>205</th>\n",
       "      <td>MAC000002</td>\n",
       "      <td>Std</td>\n",
       "      <td>2013-04-12</td>\n",
       "      <td>12.563</td>\n",
       "    </tr>\n",
       "    <tr>\n",
       "      <th>206</th>\n",
       "      <td>MAC000002</td>\n",
       "      <td>Std</td>\n",
       "      <td>2013-04-16</td>\n",
       "      <td>10.940</td>\n",
       "    </tr>\n",
       "    <tr>\n",
       "      <th>207</th>\n",
       "      <td>MAC000002</td>\n",
       "      <td>Std</td>\n",
       "      <td>2013-04-25</td>\n",
       "      <td>9.481</td>\n",
       "    </tr>\n",
       "    <tr>\n",
       "      <th>208</th>\n",
       "      <td>MAC000002</td>\n",
       "      <td>Std</td>\n",
       "      <td>2013-04-27</td>\n",
       "      <td>9.625</td>\n",
       "    </tr>\n",
       "    <tr>\n",
       "      <th>209</th>\n",
       "      <td>MAC000002</td>\n",
       "      <td>Std</td>\n",
       "      <td>2013-05-06</td>\n",
       "      <td>7.418</td>\n",
       "    </tr>\n",
       "  </tbody>\n",
       "</table>\n",
       "<p>210 rows × 4 columns</p>\n",
       "</div>"
      ],
      "text/plain": [
       "    Household ID Tariff Type        Date     kWh\n",
       "0      MAC000002         Std  2012-10-12   7.098\n",
       "1      MAC000002         Std  2012-10-18  10.751\n",
       "2      MAC000002         Std  2012-10-24  15.537\n",
       "3      MAC000002         Std  2012-10-25  13.128\n",
       "4      MAC000002         Std  2012-11-01  12.209\n",
       "..           ...         ...         ...     ...\n",
       "205    MAC000002         Std  2013-04-12  12.563\n",
       "206    MAC000002         Std  2013-04-16  10.940\n",
       "207    MAC000002         Std  2013-04-25   9.481\n",
       "208    MAC000002         Std  2013-04-27   9.625\n",
       "209    MAC000002         Std  2013-05-06   7.418\n",
       "\n",
       "[210 rows x 4 columns]"
      ]
     },
     "execution_count": 25,
     "metadata": {},
     "output_type": "execute_result"
    }
   ],
   "source": [
    "test_summary_daily = pd.DataFrame(\n",
    "    data = aggregated_test_data_table.collect(),\n",
    "    columns = ['Household ID', 'Tariff Type', 'Date', 'kWh']\n",
    ")\n",
    "test_summary_daily"
   ]
  },
  {
   "cell_type": "markdown",
   "id": "66137e54",
   "metadata": {},
   "source": [
    "## Traiter le jeu de données complet"
   ]
  },
  {
   "cell_type": "markdown",
   "id": "3ba28f9c",
   "metadata": {},
   "source": [
    "Maintenant on peut appliquer les mêmes méthodes aux données complètes. Veuillez noter que rien ne va se passer jusqu'à ce qu'on appelle `collect`.\n",
    "\n",
    "Quand on peut, on amalgame nos fonctions dans une seule fonction qu'on appellera avec `map`."
   ]
  },
  {
   "cell_type": "code",
   "execution_count": 26,
   "id": "11e4f73b",
   "metadata": {},
   "outputs": [],
   "source": [
    "def process_data(x):\n",
    "    x = convert_kwh_data_to_numeric(x)\n",
    "    x = convert_timestamp_to_date_string(x)\n",
    "    x = create_keyed_kwh_data(x)\n",
    "    return x"
   ]
  },
  {
   "cell_type": "code",
   "execution_count": 27,
   "id": "bd6bfac4",
   "metadata": {},
   "outputs": [],
   "source": [
    "aggregated_data_table_rdd = (\n",
    "    full_data.distinct()\n",
    "    .map(split_line_into_list)\n",
    "    .filter(remove_nulls)\n",
    "    .map(process_data)\n",
    "    .reduceByKey(lambda x, y : x + y)\n",
    "    .map(lambda x : (x[0][0], x[0][1], x[0][2], x[1]))\n",
    ")"
   ]
  },
  {
   "cell_type": "code",
   "execution_count": 28,
   "id": "6632cf3e",
   "metadata": {},
   "outputs": [
    {
     "name": "stderr",
     "output_type": "stream",
     "text": [
      "                                                                                \r"
     ]
    }
   ],
   "source": [
    "aggregrated_data_table = aggregated_data_table_rdd.collect()"
   ]
  },
  {
   "cell_type": "markdown",
   "id": "be9175d4",
   "metadata": {},
   "source": [
    "Veuillez noter que quand nous appellons `collect` PySpark affiche une barre de progrès utile (exemple ci-dessus):"
   ]
  },
  {
   "cell_type": "markdown",
   "id": "911713c3",
   "metadata": {},
   "source": [
    "<img src=\"images/PySpark progress.png\" width=\"100%\"/>"
   ]
  },
  {
   "cell_type": "markdown",
   "id": "78f00e71",
   "metadata": {},
   "source": [
    "Et maintenant qu'on a réduit nos données on peut les convertir en un seul dataframe Pandas."
   ]
  },
  {
   "cell_type": "code",
   "execution_count": 29,
   "id": "04444947",
   "metadata": {},
   "outputs": [],
   "source": [
    "daily_summary = pd.DataFrame(\n",
    "    data = aggregrated_data_table,\n",
    "    columns = ['Household ID', 'Tariff Type', 'Date', 'kWh']\n",
    ")"
   ]
  },
  {
   "cell_type": "code",
   "execution_count": 30,
   "id": "0fbb2261",
   "metadata": {
    "scrolled": false
   },
   "outputs": [
    {
     "data": {
      "text/html": [
       "<div>\n",
       "<style scoped>\n",
       "    .dataframe tbody tr th:only-of-type {\n",
       "        vertical-align: middle;\n",
       "    }\n",
       "\n",
       "    .dataframe tbody tr th {\n",
       "        vertical-align: top;\n",
       "    }\n",
       "\n",
       "    .dataframe thead th {\n",
       "        text-align: right;\n",
       "    }\n",
       "</style>\n",
       "<table border=\"1\" class=\"dataframe\">\n",
       "  <thead>\n",
       "    <tr style=\"text-align: right;\">\n",
       "      <th></th>\n",
       "      <th>Household ID</th>\n",
       "      <th>Tariff Type</th>\n",
       "      <th>Date</th>\n",
       "      <th>kWh</th>\n",
       "    </tr>\n",
       "  </thead>\n",
       "  <tbody>\n",
       "    <tr>\n",
       "      <th>0</th>\n",
       "      <td>MAC000004</td>\n",
       "      <td>Std</td>\n",
       "      <td>2012-07-22</td>\n",
       "      <td>1.498</td>\n",
       "    </tr>\n",
       "    <tr>\n",
       "      <th>1</th>\n",
       "      <td>MAC000007</td>\n",
       "      <td>Std</td>\n",
       "      <td>2013-06-12</td>\n",
       "      <td>6.837</td>\n",
       "    </tr>\n",
       "    <tr>\n",
       "      <th>2</th>\n",
       "      <td>MAC000008</td>\n",
       "      <td>Std</td>\n",
       "      <td>2013-04-02</td>\n",
       "      <td>22.690</td>\n",
       "    </tr>\n",
       "    <tr>\n",
       "      <th>3</th>\n",
       "      <td>MAC000009</td>\n",
       "      <td>Std</td>\n",
       "      <td>2013-07-06</td>\n",
       "      <td>6.291</td>\n",
       "    </tr>\n",
       "    <tr>\n",
       "      <th>4</th>\n",
       "      <td>MAC000012</td>\n",
       "      <td>Std</td>\n",
       "      <td>2013-04-28</td>\n",
       "      <td>1.269</td>\n",
       "    </tr>\n",
       "    <tr>\n",
       "      <th>...</th>\n",
       "      <td>...</td>\n",
       "      <td>...</td>\n",
       "      <td>...</td>\n",
       "      <td>...</td>\n",
       "    </tr>\n",
       "    <tr>\n",
       "      <th>3510398</th>\n",
       "      <td>MAC002748</td>\n",
       "      <td>Std</td>\n",
       "      <td>2014-02-28</td>\n",
       "      <td>0.115</td>\n",
       "    </tr>\n",
       "    <tr>\n",
       "      <th>3510399</th>\n",
       "      <td>MAC003631</td>\n",
       "      <td>Std</td>\n",
       "      <td>2014-02-28</td>\n",
       "      <td>0.068</td>\n",
       "    </tr>\n",
       "    <tr>\n",
       "      <th>3510400</th>\n",
       "      <td>MAC005337</td>\n",
       "      <td>Std</td>\n",
       "      <td>2014-02-28</td>\n",
       "      <td>1.325</td>\n",
       "    </tr>\n",
       "    <tr>\n",
       "      <th>3510401</th>\n",
       "      <td>MAC002930</td>\n",
       "      <td>ToU</td>\n",
       "      <td>2014-02-28</td>\n",
       "      <td>0.118</td>\n",
       "    </tr>\n",
       "    <tr>\n",
       "      <th>3510402</th>\n",
       "      <td>MAC002985</td>\n",
       "      <td>ToU</td>\n",
       "      <td>2014-02-28</td>\n",
       "      <td>0.051</td>\n",
       "    </tr>\n",
       "  </tbody>\n",
       "</table>\n",
       "<p>3510403 rows × 4 columns</p>\n",
       "</div>"
      ],
      "text/plain": [
       "        Household ID Tariff Type        Date     kWh\n",
       "0          MAC000004         Std  2012-07-22   1.498\n",
       "1          MAC000007         Std  2013-06-12   6.837\n",
       "2          MAC000008         Std  2013-04-02  22.690\n",
       "3          MAC000009         Std  2013-07-06   6.291\n",
       "4          MAC000012         Std  2013-04-28   1.269\n",
       "...              ...         ...         ...     ...\n",
       "3510398    MAC002748         Std  2014-02-28   0.115\n",
       "3510399    MAC003631         Std  2014-02-28   0.068\n",
       "3510400    MAC005337         Std  2014-02-28   1.325\n",
       "3510401    MAC002930         ToU  2014-02-28   0.118\n",
       "3510402    MAC002985         ToU  2014-02-28   0.051\n",
       "\n",
       "[3510403 rows x 4 columns]"
      ]
     },
     "execution_count": 30,
     "metadata": {},
     "output_type": "execute_result"
    }
   ],
   "source": [
    "daily_summary"
   ]
  },
  {
   "cell_type": "markdown",
   "id": "198ab367",
   "metadata": {},
   "source": [
    "A partir d'ici, le reste de ce notebook contient à peu près le même traitement que tous les autres notebooks dans la série."
   ]
  },
  {
   "cell_type": "markdown",
   "id": "dbff847e",
   "metadata": {},
   "source": [
    "## Sauvegarder les données agrégées"
   ]
  },
  {
   "cell_type": "markdown",
   "id": "d5e64fcc",
   "metadata": {},
   "source": [
    "Maintentant qu'on a ramené les données à environ 3 millions lignes on devrait pouvoir les contenir dans un seul dataframe. Il vaut mieux les sauvegarder pour qu'on n'ait pas besoin de réexecuter l'agrégation chaque fois qu'on veut traiter les données.\n",
    "\n",
    "On va le sauvegarder comme fichier compressé gz - pandas reconnait automatiquement le type de fichier quand on précise l'extension."
   ]
  },
  {
   "cell_type": "code",
   "execution_count": 31,
   "id": "6931a2df",
   "metadata": {},
   "outputs": [],
   "source": [
    "daily_summary.to_csv(\"data/daily-summary-data.gz\", index=False)"
   ]
  },
  {
   "cell_type": "markdown",
   "id": "48cd8c46",
   "metadata": {},
   "source": [
    "## Analyser les données"
   ]
  },
  {
   "cell_type": "code",
   "execution_count": 32,
   "id": "1ba6012a",
   "metadata": {},
   "outputs": [],
   "source": [
    "saved_daily_summary = pd.read_csv(\"data/daily-summary-data.gz\")"
   ]
  },
  {
   "cell_type": "code",
   "execution_count": 33,
   "id": "82125d5a",
   "metadata": {
    "scrolled": false
   },
   "outputs": [
    {
     "data": {
      "text/html": [
       "<div>\n",
       "<style scoped>\n",
       "    .dataframe tbody tr th:only-of-type {\n",
       "        vertical-align: middle;\n",
       "    }\n",
       "\n",
       "    .dataframe tbody tr th {\n",
       "        vertical-align: top;\n",
       "    }\n",
       "\n",
       "    .dataframe thead th {\n",
       "        text-align: right;\n",
       "    }\n",
       "</style>\n",
       "<table border=\"1\" class=\"dataframe\">\n",
       "  <thead>\n",
       "    <tr style=\"text-align: right;\">\n",
       "      <th></th>\n",
       "      <th>Household ID</th>\n",
       "      <th>Tariff Type</th>\n",
       "      <th>Date</th>\n",
       "      <th>kWh</th>\n",
       "    </tr>\n",
       "  </thead>\n",
       "  <tbody>\n",
       "    <tr>\n",
       "      <th>0</th>\n",
       "      <td>MAC000004</td>\n",
       "      <td>Std</td>\n",
       "      <td>2012-07-22</td>\n",
       "      <td>1.498</td>\n",
       "    </tr>\n",
       "    <tr>\n",
       "      <th>1</th>\n",
       "      <td>MAC000007</td>\n",
       "      <td>Std</td>\n",
       "      <td>2013-06-12</td>\n",
       "      <td>6.837</td>\n",
       "    </tr>\n",
       "    <tr>\n",
       "      <th>2</th>\n",
       "      <td>MAC000008</td>\n",
       "      <td>Std</td>\n",
       "      <td>2013-04-02</td>\n",
       "      <td>22.690</td>\n",
       "    </tr>\n",
       "    <tr>\n",
       "      <th>3</th>\n",
       "      <td>MAC000009</td>\n",
       "      <td>Std</td>\n",
       "      <td>2013-07-06</td>\n",
       "      <td>6.291</td>\n",
       "    </tr>\n",
       "    <tr>\n",
       "      <th>4</th>\n",
       "      <td>MAC000012</td>\n",
       "      <td>Std</td>\n",
       "      <td>2013-04-28</td>\n",
       "      <td>1.269</td>\n",
       "    </tr>\n",
       "    <tr>\n",
       "      <th>...</th>\n",
       "      <td>...</td>\n",
       "      <td>...</td>\n",
       "      <td>...</td>\n",
       "      <td>...</td>\n",
       "    </tr>\n",
       "    <tr>\n",
       "      <th>3510398</th>\n",
       "      <td>MAC002748</td>\n",
       "      <td>Std</td>\n",
       "      <td>2014-02-28</td>\n",
       "      <td>0.115</td>\n",
       "    </tr>\n",
       "    <tr>\n",
       "      <th>3510399</th>\n",
       "      <td>MAC003631</td>\n",
       "      <td>Std</td>\n",
       "      <td>2014-02-28</td>\n",
       "      <td>0.068</td>\n",
       "    </tr>\n",
       "    <tr>\n",
       "      <th>3510400</th>\n",
       "      <td>MAC005337</td>\n",
       "      <td>Std</td>\n",
       "      <td>2014-02-28</td>\n",
       "      <td>1.325</td>\n",
       "    </tr>\n",
       "    <tr>\n",
       "      <th>3510401</th>\n",
       "      <td>MAC002930</td>\n",
       "      <td>ToU</td>\n",
       "      <td>2014-02-28</td>\n",
       "      <td>0.118</td>\n",
       "    </tr>\n",
       "    <tr>\n",
       "      <th>3510402</th>\n",
       "      <td>MAC002985</td>\n",
       "      <td>ToU</td>\n",
       "      <td>2014-02-28</td>\n",
       "      <td>0.051</td>\n",
       "    </tr>\n",
       "  </tbody>\n",
       "</table>\n",
       "<p>3510403 rows × 4 columns</p>\n",
       "</div>"
      ],
      "text/plain": [
       "        Household ID Tariff Type        Date     kWh\n",
       "0          MAC000004         Std  2012-07-22   1.498\n",
       "1          MAC000007         Std  2013-06-12   6.837\n",
       "2          MAC000008         Std  2013-04-02  22.690\n",
       "3          MAC000009         Std  2013-07-06   6.291\n",
       "4          MAC000012         Std  2013-04-28   1.269\n",
       "...              ...         ...         ...     ...\n",
       "3510398    MAC002748         Std  2014-02-28   0.115\n",
       "3510399    MAC003631         Std  2014-02-28   0.068\n",
       "3510400    MAC005337         Std  2014-02-28   1.325\n",
       "3510401    MAC002930         ToU  2014-02-28   0.118\n",
       "3510402    MAC002985         ToU  2014-02-28   0.051\n",
       "\n",
       "[3510403 rows x 4 columns]"
      ]
     },
     "execution_count": 33,
     "metadata": {},
     "output_type": "execute_result"
    }
   ],
   "source": [
    "saved_daily_summary"
   ]
  },
  {
   "cell_type": "markdown",
   "id": "94645ccb",
   "metadata": {},
   "source": [
    "Par intérêt examinons la couverture des données. D'abord on réorganise pour avoir les résidences en colonne et les date en ligne."
   ]
  },
  {
   "cell_type": "code",
   "execution_count": 34,
   "id": "2fd4d725",
   "metadata": {},
   "outputs": [],
   "source": [
    "summary_table = saved_daily_summary.pivot_table(\n",
    "    'kWh',\n",
    "    index='Date',\n",
    "    columns='Household ID',\n",
    "    aggfunc='sum'\n",
    ")"
   ]
  },
  {
   "cell_type": "markdown",
   "id": "c6cce09d",
   "metadata": {},
   "source": [
    "Ensuite on peut afficher où on a des données (noir) et où on n'en a pas (blanc)."
   ]
  },
  {
   "cell_type": "code",
   "execution_count": 35,
   "id": "36e4edeb",
   "metadata": {
    "scrolled": false
   },
   "outputs": [
    {
     "data": {
      "image/png": "[encoded data removed]",
      "text/plain": [
       "<Figure size 1080x864 with 1 Axes>"
      ]
     },
     "metadata": {
      "needs_background": "light"
     },
     "output_type": "display_data"
    }
   ],
   "source": [
    "import matplotlib.pyplot as plt\n",
    "\n",
    "plt.figure(figsize=(15, 12))\n",
    "plt.imshow(summary_table.isna(), aspect=\"auto\", interpolation=\"nearest\", cmap=\"gray\")\n",
    "plt.xlabel(\"Column Number\")\n",
    "plt.ylabel(\"Date Number\");"
   ]
  },
  {
   "cell_type": "markdown",
   "id": "22b05c56",
   "metadata": {},
   "source": [
    "Malgré une couverture un peu lacunaire, calculer par tarif sur toutes les résidences par jour devrait nous donner une comparaison utile."
   ]
  },
  {
   "cell_type": "code",
   "execution_count": 36,
   "id": "838f149c",
   "metadata": {},
   "outputs": [
    {
     "data": {
      "text/html": [
       "<div>\n",
       "<style scoped>\n",
       "    .dataframe tbody tr th:only-of-type {\n",
       "        vertical-align: middle;\n",
       "    }\n",
       "\n",
       "    .dataframe tbody tr th {\n",
       "        vertical-align: top;\n",
       "    }\n",
       "\n",
       "    .dataframe thead th {\n",
       "        text-align: right;\n",
       "    }\n",
       "</style>\n",
       "<table border=\"1\" class=\"dataframe\">\n",
       "  <thead>\n",
       "    <tr style=\"text-align: right;\">\n",
       "      <th>Tariff Type</th>\n",
       "      <th>Std</th>\n",
       "      <th>ToU</th>\n",
       "    </tr>\n",
       "    <tr>\n",
       "      <th>Date</th>\n",
       "      <th></th>\n",
       "      <th></th>\n",
       "    </tr>\n",
       "  </thead>\n",
       "  <tbody>\n",
       "    <tr>\n",
       "      <th>2011-11-23</th>\n",
       "      <td>7.430000</td>\n",
       "      <td>4.327500</td>\n",
       "    </tr>\n",
       "    <tr>\n",
       "      <th>2011-11-24</th>\n",
       "      <td>8.998333</td>\n",
       "      <td>6.111750</td>\n",
       "    </tr>\n",
       "    <tr>\n",
       "      <th>2011-11-25</th>\n",
       "      <td>10.102885</td>\n",
       "      <td>6.886333</td>\n",
       "    </tr>\n",
       "    <tr>\n",
       "      <th>2011-11-26</th>\n",
       "      <td>10.706257</td>\n",
       "      <td>7.709500</td>\n",
       "    </tr>\n",
       "    <tr>\n",
       "      <th>2011-11-27</th>\n",
       "      <td>11.371486</td>\n",
       "      <td>7.813500</td>\n",
       "    </tr>\n",
       "    <tr>\n",
       "      <th>...</th>\n",
       "      <td>...</td>\n",
       "      <td>...</td>\n",
       "    </tr>\n",
       "    <tr>\n",
       "      <th>2014-02-24</th>\n",
       "      <td>10.580187</td>\n",
       "      <td>9.759439</td>\n",
       "    </tr>\n",
       "    <tr>\n",
       "      <th>2014-02-25</th>\n",
       "      <td>10.453365</td>\n",
       "      <td>9.683862</td>\n",
       "    </tr>\n",
       "    <tr>\n",
       "      <th>2014-02-26</th>\n",
       "      <td>10.329026</td>\n",
       "      <td>9.716652</td>\n",
       "    </tr>\n",
       "    <tr>\n",
       "      <th>2014-02-27</th>\n",
       "      <td>10.506416</td>\n",
       "      <td>9.776561</td>\n",
       "    </tr>\n",
       "    <tr>\n",
       "      <th>2014-02-28</th>\n",
       "      <td>0.218075</td>\n",
       "      <td>0.173949</td>\n",
       "    </tr>\n",
       "  </tbody>\n",
       "</table>\n",
       "<p>829 rows × 2 columns</p>\n",
       "</div>"
      ],
      "text/plain": [
       "Tariff Type        Std       ToU\n",
       "Date                            \n",
       "2011-11-23    7.430000  4.327500\n",
       "2011-11-24    8.998333  6.111750\n",
       "2011-11-25   10.102885  6.886333\n",
       "2011-11-26   10.706257  7.709500\n",
       "2011-11-27   11.371486  7.813500\n",
       "...                ...       ...\n",
       "2014-02-24   10.580187  9.759439\n",
       "2014-02-25   10.453365  9.683862\n",
       "2014-02-26   10.329026  9.716652\n",
       "2014-02-27   10.506416  9.776561\n",
       "2014-02-28    0.218075  0.173949\n",
       "\n",
       "[829 rows x 2 columns]"
      ]
     },
     "execution_count": 36,
     "metadata": {},
     "output_type": "execute_result"
    }
   ],
   "source": [
    "daily_mean_by_tariff_type = saved_daily_summary.pivot_table(\n",
    "    'kWh',\n",
    "    index='Date',\n",
    "    columns='Tariff Type',\n",
    "    aggfunc='mean'\n",
    ")\n",
    "daily_mean_by_tariff_type"
   ]
  },
  {
   "cell_type": "markdown",
   "id": "ed103a40",
   "metadata": {},
   "source": [
    "Finalement on peut tracer les deux groupes de données. Le traçage marche mieux si on convertit la date de type `string` en type `datetime`."
   ]
  },
  {
   "cell_type": "code",
   "execution_count": 37,
   "id": "ac2122be",
   "metadata": {},
   "outputs": [],
   "source": [
    "daily_mean_by_tariff_type.index = pd.to_datetime(daily_mean_by_tariff_type.index)"
   ]
  },
  {
   "cell_type": "code",
   "execution_count": 38,
   "id": "c35c3263",
   "metadata": {},
   "outputs": [
    {
     "data": {
      "image/png": "[encoded data removed]",
      "text/plain": [
       "<Figure size 1152x360 with 1 Axes>"
      ]
     },
     "metadata": {},
     "output_type": "display_data"
    }
   ],
   "source": [
    "plt.style.use('seaborn-whitegrid')\n",
    "\n",
    "plt.figure(figsize=(16, 5), facecolor='floralwhite')\n",
    "for tariff in daily_mean_by_tariff_type.columns.to_list():\n",
    "    plt.plot(\n",
    "        daily_mean_by_tariff_type.index.values,\n",
    "        daily_mean_by_tariff_type[tariff],\n",
    "        label = tariff\n",
    "    )\n",
    "\n",
    "plt.legend(loc='center', frameon=True, facecolor='whitesmoke', framealpha=1, fontsize=14)\n",
    "plt.title(\n",
    "    'Mean daily energy consumption by household group',\n",
    "    fontdict = {'fontsize' : 16, 'fontweight' : 'bold'}\n",
    ")\n",
    "plt.xlabel('Date', fontsize = 14)\n",
    "plt.ylabel('kWH', fontsize = 14)\n",
    "plt.show()"
   ]
  },
  {
   "cell_type": "markdown",
   "id": "74a6930f",
   "metadata": {},
   "source": [
    "On dirait que la variation est saisonnière qui n'est pas étonnant vu la demande d'énergie de chauffage.\n",
    "\n",
    "On dirait aussi qu'il y a une différence entre les deux groupes: le groupe ToU a l'air de consommer moins, mais l'affichage est trop granulaire pour voir bien. Agégeons encore une fois, cette fois-ci par mois."
   ]
  },
  {
   "cell_type": "code",
   "execution_count": 39,
   "id": "8c5aae90",
   "metadata": {},
   "outputs": [
    {
     "data": {
      "text/html": [
       "<div>\n",
       "<style scoped>\n",
       "    .dataframe tbody tr th:only-of-type {\n",
       "        vertical-align: middle;\n",
       "    }\n",
       "\n",
       "    .dataframe tbody tr th {\n",
       "        vertical-align: top;\n",
       "    }\n",
       "\n",
       "    .dataframe thead th {\n",
       "        text-align: right;\n",
       "    }\n",
       "</style>\n",
       "<table border=\"1\" class=\"dataframe\">\n",
       "  <thead>\n",
       "    <tr style=\"text-align: right;\">\n",
       "      <th>Tariff Type</th>\n",
       "      <th>Std</th>\n",
       "      <th>ToU</th>\n",
       "    </tr>\n",
       "    <tr>\n",
       "      <th>Date</th>\n",
       "      <th></th>\n",
       "      <th></th>\n",
       "    </tr>\n",
       "  </thead>\n",
       "  <tbody>\n",
       "    <tr>\n",
       "      <th>2011-11-23</th>\n",
       "      <td>7.430000</td>\n",
       "      <td>4.327500</td>\n",
       "    </tr>\n",
       "    <tr>\n",
       "      <th>2011-11-24</th>\n",
       "      <td>8.998333</td>\n",
       "      <td>6.111750</td>\n",
       "    </tr>\n",
       "    <tr>\n",
       "      <th>2011-11-25</th>\n",
       "      <td>10.102885</td>\n",
       "      <td>6.886333</td>\n",
       "    </tr>\n",
       "    <tr>\n",
       "      <th>2011-11-26</th>\n",
       "      <td>10.706257</td>\n",
       "      <td>7.709500</td>\n",
       "    </tr>\n",
       "    <tr>\n",
       "      <th>2011-11-27</th>\n",
       "      <td>11.371486</td>\n",
       "      <td>7.813500</td>\n",
       "    </tr>\n",
       "    <tr>\n",
       "      <th>...</th>\n",
       "      <td>...</td>\n",
       "      <td>...</td>\n",
       "    </tr>\n",
       "    <tr>\n",
       "      <th>2014-02-24</th>\n",
       "      <td>10.580187</td>\n",
       "      <td>9.759439</td>\n",
       "    </tr>\n",
       "    <tr>\n",
       "      <th>2014-02-25</th>\n",
       "      <td>10.453365</td>\n",
       "      <td>9.683862</td>\n",
       "    </tr>\n",
       "    <tr>\n",
       "      <th>2014-02-26</th>\n",
       "      <td>10.329026</td>\n",
       "      <td>9.716652</td>\n",
       "    </tr>\n",
       "    <tr>\n",
       "      <th>2014-02-27</th>\n",
       "      <td>10.506416</td>\n",
       "      <td>9.776561</td>\n",
       "    </tr>\n",
       "    <tr>\n",
       "      <th>2014-02-28</th>\n",
       "      <td>0.218075</td>\n",
       "      <td>0.173949</td>\n",
       "    </tr>\n",
       "  </tbody>\n",
       "</table>\n",
       "<p>829 rows × 2 columns</p>\n",
       "</div>"
      ],
      "text/plain": [
       "Tariff Type        Std       ToU\n",
       "Date                            \n",
       "2011-11-23    7.430000  4.327500\n",
       "2011-11-24    8.998333  6.111750\n",
       "2011-11-25   10.102885  6.886333\n",
       "2011-11-26   10.706257  7.709500\n",
       "2011-11-27   11.371486  7.813500\n",
       "...                ...       ...\n",
       "2014-02-24   10.580187  9.759439\n",
       "2014-02-25   10.453365  9.683862\n",
       "2014-02-26   10.329026  9.716652\n",
       "2014-02-27   10.506416  9.776561\n",
       "2014-02-28    0.218075  0.173949\n",
       "\n",
       "[829 rows x 2 columns]"
      ]
     },
     "execution_count": 39,
     "metadata": {},
     "output_type": "execute_result"
    }
   ],
   "source": [
    "daily_mean_by_tariff_type"
   ]
  },
  {
   "cell_type": "markdown",
   "id": "4f23a4fe",
   "metadata": {},
   "source": [
    "On voit que les données commencent au cours de novembre 2011, donc on commencera le 1 décembre. On dirait que les données terminent parfaitement à la fin de février, mais la dernière valeur est suspecte puisqu'elle est très basse comparé aux autres. Il paraît probable que les données ont terminé au cours de la dernière journée, donc on finira à la fin de janvier. Peut-être qu'on a le même problème ailleurs dans les données, mais l'effet ne devrait pas être énorme parce que dans le pire des cas la consommation mensuelle d'une résidence sera réduite par deux journées (une au début et une à la fin)."
   ]
  },
  {
   "cell_type": "code",
   "execution_count": 40,
   "id": "48bec1ad",
   "metadata": {},
   "outputs": [
    {
     "data": {
      "text/html": [
       "<div>\n",
       "<style scoped>\n",
       "    .dataframe tbody tr th:only-of-type {\n",
       "        vertical-align: middle;\n",
       "    }\n",
       "\n",
       "    .dataframe tbody tr th {\n",
       "        vertical-align: top;\n",
       "    }\n",
       "\n",
       "    .dataframe thead th {\n",
       "        text-align: right;\n",
       "    }\n",
       "</style>\n",
       "<table border=\"1\" class=\"dataframe\">\n",
       "  <thead>\n",
       "    <tr style=\"text-align: right;\">\n",
       "      <th>Tariff Type</th>\n",
       "      <th>Std</th>\n",
       "      <th>ToU</th>\n",
       "    </tr>\n",
       "    <tr>\n",
       "      <th>Date</th>\n",
       "      <th></th>\n",
       "      <th></th>\n",
       "    </tr>\n",
       "  </thead>\n",
       "  <tbody>\n",
       "    <tr>\n",
       "      <th>2011-12-31</th>\n",
       "      <td>377.218580</td>\n",
       "      <td>365.145947</td>\n",
       "    </tr>\n",
       "    <tr>\n",
       "      <th>2012-01-31</th>\n",
       "      <td>401.511261</td>\n",
       "      <td>386.016403</td>\n",
       "    </tr>\n",
       "    <tr>\n",
       "      <th>2012-02-29</th>\n",
       "      <td>395.065321</td>\n",
       "      <td>368.475150</td>\n",
       "    </tr>\n",
       "    <tr>\n",
       "      <th>2012-03-31</th>\n",
       "      <td>349.153085</td>\n",
       "      <td>330.900633</td>\n",
       "    </tr>\n",
       "    <tr>\n",
       "      <th>2012-04-30</th>\n",
       "      <td>314.173857</td>\n",
       "      <td>296.903425</td>\n",
       "    </tr>\n",
       "    <tr>\n",
       "      <th>2012-05-31</th>\n",
       "      <td>281.666428</td>\n",
       "      <td>263.694338</td>\n",
       "    </tr>\n",
       "    <tr>\n",
       "      <th>2012-06-30</th>\n",
       "      <td>257.204029</td>\n",
       "      <td>238.417505</td>\n",
       "    </tr>\n",
       "    <tr>\n",
       "      <th>2012-07-31</th>\n",
       "      <td>260.231952</td>\n",
       "      <td>244.641359</td>\n",
       "    </tr>\n",
       "    <tr>\n",
       "      <th>2012-08-31</th>\n",
       "      <td>253.939017</td>\n",
       "      <td>238.904096</td>\n",
       "    </tr>\n",
       "    <tr>\n",
       "      <th>2012-09-30</th>\n",
       "      <td>266.392972</td>\n",
       "      <td>248.707929</td>\n",
       "    </tr>\n",
       "    <tr>\n",
       "      <th>2012-10-31</th>\n",
       "      <td>318.214026</td>\n",
       "      <td>299.714701</td>\n",
       "    </tr>\n",
       "    <tr>\n",
       "      <th>2012-11-30</th>\n",
       "      <td>347.818025</td>\n",
       "      <td>326.651435</td>\n",
       "    </tr>\n",
       "    <tr>\n",
       "      <th>2012-12-31</th>\n",
       "      <td>390.616106</td>\n",
       "      <td>364.754528</td>\n",
       "    </tr>\n",
       "    <tr>\n",
       "      <th>2013-01-31</th>\n",
       "      <td>398.004581</td>\n",
       "      <td>366.548143</td>\n",
       "    </tr>\n",
       "    <tr>\n",
       "      <th>2013-02-28</th>\n",
       "      <td>352.189818</td>\n",
       "      <td>325.298845</td>\n",
       "    </tr>\n",
       "    <tr>\n",
       "      <th>2013-03-31</th>\n",
       "      <td>381.191994</td>\n",
       "      <td>351.371278</td>\n",
       "    </tr>\n",
       "    <tr>\n",
       "      <th>2013-04-30</th>\n",
       "      <td>307.857771</td>\n",
       "      <td>277.856327</td>\n",
       "    </tr>\n",
       "    <tr>\n",
       "      <th>2013-05-31</th>\n",
       "      <td>280.762752</td>\n",
       "      <td>256.292247</td>\n",
       "    </tr>\n",
       "    <tr>\n",
       "      <th>2013-06-30</th>\n",
       "      <td>254.399013</td>\n",
       "      <td>234.481016</td>\n",
       "    </tr>\n",
       "    <tr>\n",
       "      <th>2013-07-31</th>\n",
       "      <td>252.609890</td>\n",
       "      <td>234.104814</td>\n",
       "    </tr>\n",
       "    <tr>\n",
       "      <th>2013-08-31</th>\n",
       "      <td>247.046087</td>\n",
       "      <td>231.347310</td>\n",
       "    </tr>\n",
       "    <tr>\n",
       "      <th>2013-09-30</th>\n",
       "      <td>267.024791</td>\n",
       "      <td>245.597424</td>\n",
       "    </tr>\n",
       "    <tr>\n",
       "      <th>2013-10-31</th>\n",
       "      <td>299.533302</td>\n",
       "      <td>274.332936</td>\n",
       "    </tr>\n",
       "    <tr>\n",
       "      <th>2013-11-30</th>\n",
       "      <td>338.082197</td>\n",
       "      <td>306.942424</td>\n",
       "    </tr>\n",
       "    <tr>\n",
       "      <th>2013-12-31</th>\n",
       "      <td>369.381371</td>\n",
       "      <td>337.331504</td>\n",
       "    </tr>\n",
       "    <tr>\n",
       "      <th>2014-01-31</th>\n",
       "      <td>364.225310</td>\n",
       "      <td>331.578243</td>\n",
       "    </tr>\n",
       "  </tbody>\n",
       "</table>\n",
       "</div>"
      ],
      "text/plain": [
       "Tariff Type         Std         ToU\n",
       "Date                               \n",
       "2011-12-31   377.218580  365.145947\n",
       "2012-01-31   401.511261  386.016403\n",
       "2012-02-29   395.065321  368.475150\n",
       "2012-03-31   349.153085  330.900633\n",
       "2012-04-30   314.173857  296.903425\n",
       "2012-05-31   281.666428  263.694338\n",
       "2012-06-30   257.204029  238.417505\n",
       "2012-07-31   260.231952  244.641359\n",
       "2012-08-31   253.939017  238.904096\n",
       "2012-09-30   266.392972  248.707929\n",
       "2012-10-31   318.214026  299.714701\n",
       "2012-11-30   347.818025  326.651435\n",
       "2012-12-31   390.616106  364.754528\n",
       "2013-01-31   398.004581  366.548143\n",
       "2013-02-28   352.189818  325.298845\n",
       "2013-03-31   381.191994  351.371278\n",
       "2013-04-30   307.857771  277.856327\n",
       "2013-05-31   280.762752  256.292247\n",
       "2013-06-30   254.399013  234.481016\n",
       "2013-07-31   252.609890  234.104814\n",
       "2013-08-31   247.046087  231.347310\n",
       "2013-09-30   267.024791  245.597424\n",
       "2013-10-31   299.533302  274.332936\n",
       "2013-11-30   338.082197  306.942424\n",
       "2013-12-31   369.381371  337.331504\n",
       "2014-01-31   364.225310  331.578243"
      ]
     },
     "execution_count": 40,
     "metadata": {},
     "output_type": "execute_result"
    }
   ],
   "source": [
    "monthly_mean_by_tariff_type = daily_mean_by_tariff_type['2011-12-01' : '2014-01-31'].resample('M').sum()\n",
    "monthly_mean_by_tariff_type"
   ]
  },
  {
   "cell_type": "code",
   "execution_count": 41,
   "id": "b4b55a64",
   "metadata": {},
   "outputs": [
    {
     "data": {
      "image/png": "[encoded data removed]",
      "text/plain": [
       "<Figure size 1152x360 with 1 Axes>"
      ]
     },
     "metadata": {},
     "output_type": "display_data"
    }
   ],
   "source": [
    "plt.figure(figsize=(16, 5), facecolor='floralwhite')\n",
    "for tariff in daily_mean_by_tariff_type.columns.to_list():\n",
    "    plt.plot(\n",
    "        monthly_mean_by_tariff_type.index.values,\n",
    "        monthly_mean_by_tariff_type[tariff],\n",
    "        label = tariff\n",
    "    )\n",
    "\n",
    "plt.legend(loc='lower left', frameon=True, facecolor='whitesmoke', framealpha=1, fontsize=14)\n",
    "plt.title(\n",
    "    'Monthly energy consumption by household group',\n",
    "    fontdict = {'fontsize' : 16, 'fontweight' : 'bold'}\n",
    ")\n",
    "plt.xlabel('Month', fontsize = 14)\n",
    "plt.ylabel('kWH', fontsize = 14)\n",
    "\n",
    "# Uncomment for a copy to display in results\n",
    "# plt.savefig(fname='images/result1-no-dupes.png', bbox_inches='tight')\n",
    "\n",
    "plt.show()"
   ]
  },
  {
   "cell_type": "markdown",
   "id": "d19dbbd5",
   "metadata": {},
   "source": [
    "Le diagramme est plus clair et il y a une différence evidente entre les deux groupes.\n",
    "\n",
    "Veuillez noter que le diagramme ne montre pas la consommation mensuelle moyenne. Il montre la somme des moyennes journalières pour chaque mois. Pour calculer les vraies moyennes mensuelles on aurait besoin d'exclure les données journalières pour chaque résidence pendant les mois où les données n'étaient pas complètes. Notre méthode plus simple devrait nous donner une bonne approximation."
   ]
  }
 ],
 "metadata": {
  "kernelspec": {
   "display_name": "Python [conda env:datascience]",
   "language": "python",
   "name": "conda-env-datascience-py"
  },
  "language_info": {
   "codemirror_mode": {
    "name": "ipython",
    "version": 3
   },
   "file_extension": ".py",
   "mimetype": "text/x-python",
   "name": "python",
   "nbconvert_exporter": "python",
   "pygments_lexer": "ipython3",
   "version": "3.9.12"
  }
 },
 "nbformat": 4,
 "nbformat_minor": 5
}
